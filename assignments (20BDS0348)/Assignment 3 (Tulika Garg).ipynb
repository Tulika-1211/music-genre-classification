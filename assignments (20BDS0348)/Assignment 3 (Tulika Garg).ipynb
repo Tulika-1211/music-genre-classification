{
 "cells": [
  {
   "cell_type": "markdown",
   "id": "13e0e63b",
   "metadata": {},
   "source": [
    "# Assignment 3"
   ]
  },
  {
   "cell_type": "markdown",
   "id": "6f110d00",
   "metadata": {},
   "source": [
    "## Tulika Garg"
   ]
  },
  {
   "cell_type": "markdown",
   "id": "915e5dc2",
   "metadata": {},
   "source": [
    "### 1. Download the dataset: Dataset"
   ]
  },
  {
   "cell_type": "markdown",
   "id": "257a4773",
   "metadata": {},
   "source": [
    "### 2. Load the dataset."
   ]
  },
  {
   "cell_type": "code",
   "execution_count": 1,
   "id": "dfc79f71",
   "metadata": {},
   "outputs": [],
   "source": [
    "import numpy as np\n",
    "import pandas as pd\n",
    "import matplotlib.pyplot as plt\n",
    "import seaborn as sns"
   ]
  },
  {
   "cell_type": "code",
   "execution_count": 2,
   "id": "fa6c6d39",
   "metadata": {},
   "outputs": [
    {
     "data": {
      "text/html": [
       "<div>\n",
       "<style scoped>\n",
       "    .dataframe tbody tr th:only-of-type {\n",
       "        vertical-align: middle;\n",
       "    }\n",
       "\n",
       "    .dataframe tbody tr th {\n",
       "        vertical-align: top;\n",
       "    }\n",
       "\n",
       "    .dataframe thead th {\n",
       "        text-align: right;\n",
       "    }\n",
       "</style>\n",
       "<table border=\"1\" class=\"dataframe\">\n",
       "  <thead>\n",
       "    <tr style=\"text-align: right;\">\n",
       "      <th></th>\n",
       "      <th>price</th>\n",
       "      <th>area</th>\n",
       "      <th>bedrooms</th>\n",
       "      <th>bathrooms</th>\n",
       "      <th>stories</th>\n",
       "      <th>mainroad</th>\n",
       "      <th>guestroom</th>\n",
       "      <th>basement</th>\n",
       "      <th>hotwaterheating</th>\n",
       "      <th>airconditioning</th>\n",
       "      <th>parking</th>\n",
       "      <th>furnishingstatus</th>\n",
       "    </tr>\n",
       "  </thead>\n",
       "  <tbody>\n",
       "    <tr>\n",
       "      <th>0</th>\n",
       "      <td>13300000</td>\n",
       "      <td>7420</td>\n",
       "      <td>4</td>\n",
       "      <td>2</td>\n",
       "      <td>3</td>\n",
       "      <td>yes</td>\n",
       "      <td>no</td>\n",
       "      <td>no</td>\n",
       "      <td>no</td>\n",
       "      <td>yes</td>\n",
       "      <td>2</td>\n",
       "      <td>furnished</td>\n",
       "    </tr>\n",
       "    <tr>\n",
       "      <th>1</th>\n",
       "      <td>12250000</td>\n",
       "      <td>8960</td>\n",
       "      <td>4</td>\n",
       "      <td>4</td>\n",
       "      <td>4</td>\n",
       "      <td>yes</td>\n",
       "      <td>no</td>\n",
       "      <td>no</td>\n",
       "      <td>no</td>\n",
       "      <td>yes</td>\n",
       "      <td>3</td>\n",
       "      <td>furnished</td>\n",
       "    </tr>\n",
       "    <tr>\n",
       "      <th>2</th>\n",
       "      <td>12250000</td>\n",
       "      <td>9960</td>\n",
       "      <td>3</td>\n",
       "      <td>2</td>\n",
       "      <td>2</td>\n",
       "      <td>yes</td>\n",
       "      <td>no</td>\n",
       "      <td>yes</td>\n",
       "      <td>no</td>\n",
       "      <td>no</td>\n",
       "      <td>2</td>\n",
       "      <td>semi-furnished</td>\n",
       "    </tr>\n",
       "    <tr>\n",
       "      <th>3</th>\n",
       "      <td>12215000</td>\n",
       "      <td>7500</td>\n",
       "      <td>4</td>\n",
       "      <td>2</td>\n",
       "      <td>2</td>\n",
       "      <td>yes</td>\n",
       "      <td>no</td>\n",
       "      <td>yes</td>\n",
       "      <td>no</td>\n",
       "      <td>yes</td>\n",
       "      <td>3</td>\n",
       "      <td>furnished</td>\n",
       "    </tr>\n",
       "    <tr>\n",
       "      <th>4</th>\n",
       "      <td>11410000</td>\n",
       "      <td>7420</td>\n",
       "      <td>4</td>\n",
       "      <td>1</td>\n",
       "      <td>2</td>\n",
       "      <td>yes</td>\n",
       "      <td>yes</td>\n",
       "      <td>yes</td>\n",
       "      <td>no</td>\n",
       "      <td>yes</td>\n",
       "      <td>2</td>\n",
       "      <td>furnished</td>\n",
       "    </tr>\n",
       "  </tbody>\n",
       "</table>\n",
       "</div>"
      ],
      "text/plain": [
       "      price  area  bedrooms  bathrooms  stories mainroad guestroom basement  \\\n",
       "0  13300000  7420         4          2        3      yes        no       no   \n",
       "1  12250000  8960         4          4        4      yes        no       no   \n",
       "2  12250000  9960         3          2        2      yes        no      yes   \n",
       "3  12215000  7500         4          2        2      yes        no      yes   \n",
       "4  11410000  7420         4          1        2      yes       yes      yes   \n",
       "\n",
       "  hotwaterheating airconditioning  parking furnishingstatus  \n",
       "0              no             yes        2        furnished  \n",
       "1              no             yes        3        furnished  \n",
       "2              no              no        2   semi-furnished  \n",
       "3              no             yes        3        furnished  \n",
       "4              no             yes        2        furnished  "
      ]
     },
     "execution_count": 2,
     "metadata": {},
     "output_type": "execute_result"
    }
   ],
   "source": [
    "df=pd.read_csv(\"housing.csv\") #reading the csv file\n",
    "df.head()"
   ]
  },
  {
   "cell_type": "markdown",
   "id": "c7d2716d",
   "metadata": {},
   "source": [
    "### 3. Perform Below Visualizations.\n",
    "### ● Univariate Analysis"
   ]
  },
  {
   "cell_type": "code",
   "execution_count": 3,
   "id": "84f5342e",
   "metadata": {},
   "outputs": [
    {
     "data": {
      "text/plain": [
       "3    300\n",
       "2    136\n",
       "4     95\n",
       "5     10\n",
       "6      2\n",
       "1      2\n",
       "Name: bedrooms, dtype: int64"
      ]
     },
     "execution_count": 3,
     "metadata": {},
     "output_type": "execute_result"
    }
   ],
   "source": [
    "df['bedrooms'].value_counts()"
   ]
  },
  {
   "cell_type": "code",
   "execution_count": 4,
   "id": "9c72bc40",
   "metadata": {
    "scrolled": false
   },
   "outputs": [
    {
     "data": {
      "text/plain": [
       "Text(0.5, 1.0, 'Histogram of price')"
      ]
     },
     "execution_count": 4,
     "metadata": {},
     "output_type": "execute_result"
    },
    {
     "data": {
      "image/png": "[encoded data removed]",
      "text/plain": [
       "<Figure size 432x288 with 1 Axes>"
      ]
     },
     "metadata": {
      "needs_background": "light"
     },
     "output_type": "display_data"
    }
   ],
   "source": [
    "plt.hist(df['price'])\n",
    "plt.xlabel('price')\n",
    "plt.ylabel('Frequency')\n",
    "plt.title('Histogram of price')"
   ]
  },
  {
   "cell_type": "code",
   "execution_count": 5,
   "id": "837b0b38",
   "metadata": {},
   "outputs": [
    {
     "data": {
      "text/plain": [
       "Text(0.5, 1.0, 'Histogram of area')"
      ]
     },
     "execution_count": 5,
     "metadata": {},
     "output_type": "execute_result"
    },
    {
     "data": {
      "image/png": "[encoded data removed]",
      "text/plain": [
       "<Figure size 432x288 with 1 Axes>"
      ]
     },
     "metadata": {
      "needs_background": "light"
     },
     "output_type": "display_data"
    }
   ],
   "source": [
    "plt.hist(df['area'])\n",
    "plt.xlabel('Area')\n",
    "plt.ylabel('Frequency')\n",
    "plt.title('Histogram of area')"
   ]
  },
  {
   "cell_type": "code",
   "execution_count": 6,
   "id": "b8c99847",
   "metadata": {},
   "outputs": [
    {
     "data": {
      "text/plain": [
       "Text(0.5, 1.0, 'Bar plot of bedrooms')"
      ]
     },
     "execution_count": 6,
     "metadata": {},
     "output_type": "execute_result"
    },
    {
     "data": {
      "image/png": "[encoded data removed]",
      "text/plain": [
       "<Figure size 432x288 with 1 Axes>"
      ]
     },
     "metadata": {
      "needs_background": "light"
     },
     "output_type": "display_data"
    }
   ],
   "source": [
    "x=df['bedrooms'].value_counts().index\n",
    "y=df['bedrooms'].value_counts().values\n",
    "plt.bar(x,y)\n",
    "plt.xlabel('bedrooms')\n",
    "plt.ylabel('Count')\n",
    "plt.title('Bar plot of bedrooms')"
   ]
  },
  {
   "cell_type": "markdown",
   "id": "237d5f45",
   "metadata": {},
   "source": [
    "### ● Bi - Variate Analysis"
   ]
  },
  {
   "cell_type": "code",
   "execution_count": 7,
   "id": "b699d71d",
   "metadata": {
    "scrolled": true
   },
   "outputs": [
    {
     "data": {
      "text/plain": [
       "Text(0.5, 1.0, 'Scatter Plot of Price vs Area')"
      ]
     },
     "execution_count": 7,
     "metadata": {},
     "output_type": "execute_result"
    },
    {
     "data": {
      "image/png": "[encoded data removed]",
      "text/plain": [
       "<Figure size 432x288 with 1 Axes>"
      ]
     },
     "metadata": {
      "needs_background": "light"
     },
     "output_type": "display_data"
    }
   ],
   "source": [
    "plt.scatter(df['area'],df['price'])\n",
    "plt.xlabel('area')\n",
    "plt.ylabel('price')\n",
    "plt.title('Scatter Plot of Price vs Area')"
   ]
  },
  {
   "cell_type": "code",
   "execution_count": 8,
   "id": "cbb96d89",
   "metadata": {},
   "outputs": [
    {
     "name": "stderr",
     "output_type": "stream",
     "text": [
      "C:\\Users\\hp\\anaconda3\\lib\\site-packages\\seaborn\\_decorators.py:36: FutureWarning: Pass the following variables as keyword args: x, y. From version 0.12, the only valid positional argument will be `data`, and passing other arguments without an explicit keyword will result in an error or misinterpretation.\n",
      "  warnings.warn(\n"
     ]
    },
    {
     "data": {
      "text/plain": [
       "Text(0.5, 1.0, 'Box plot of Price vs. Parking')"
      ]
     },
     "execution_count": 8,
     "metadata": {},
     "output_type": "execute_result"
    },
    {
     "data": {
      "image/png": "[encoded data removed]",
      "text/plain": [
       "<Figure size 432x288 with 1 Axes>"
      ]
     },
     "metadata": {
      "needs_background": "light"
     },
     "output_type": "display_data"
    }
   ],
   "source": [
    "sns.boxplot(df['parking'], df['price'])\n",
    "plt.xlabel('Parking')\n",
    "plt.ylabel('Price')\n",
    "plt.title('Box plot of Price vs. Parking')"
   ]
  },
  {
   "cell_type": "code",
   "execution_count": 9,
   "id": "0033a236",
   "metadata": {},
   "outputs": [
    {
     "name": "stderr",
     "output_type": "stream",
     "text": [
      "C:\\Users\\hp\\anaconda3\\lib\\site-packages\\seaborn\\_decorators.py:36: FutureWarning: Pass the following variables as keyword args: x, y. From version 0.12, the only valid positional argument will be `data`, and passing other arguments without an explicit keyword will result in an error or misinterpretation.\n",
      "  warnings.warn(\n"
     ]
    },
    {
     "data": {
      "text/plain": [
       "Text(0.5, 1.0, 'Box plot of Price vs. airconditioning')"
      ]
     },
     "execution_count": 9,
     "metadata": {},
     "output_type": "execute_result"
    },
    {
     "data": {
      "image/png": "[encoded data removed]",
      "text/plain": [
       "<Figure size 432x288 with 1 Axes>"
      ]
     },
     "metadata": {
      "needs_background": "light"
     },
     "output_type": "display_data"
    }
   ],
   "source": [
    "sns.boxplot(df['airconditioning'], df['price'])\n",
    "plt.xlabel('airconditioning')\n",
    "plt.ylabel('Price')\n",
    "plt.title('Box plot of Price vs. airconditioning')"
   ]
  },
  {
   "cell_type": "markdown",
   "id": "c2e0e546",
   "metadata": {},
   "source": [
    "### ● Multi - Variate Analysis"
   ]
  },
  {
   "cell_type": "code",
   "execution_count": 10,
   "id": "798be9e4",
   "metadata": {},
   "outputs": [
    {
     "data": {
      "text/plain": [
       "<seaborn.axisgrid.PairGrid at 0x24f38f7ee80>"
      ]
     },
     "execution_count": 10,
     "metadata": {},
     "output_type": "execute_result"
    },
    {
     "data": {
      "image/png": "[encoded data removed]",
      "text/plain": [
       "<Figure size 720x720 with 20 Axes>"
      ]
     },
     "metadata": {
      "needs_background": "light"
     },
     "output_type": "display_data"
    }
   ],
   "source": [
    "sns.pairplot(df, vars=['price','bedrooms','bathrooms','parking'])"
   ]
  },
  {
   "cell_type": "code",
   "execution_count": 11,
   "id": "74b1c1b3",
   "metadata": {
    "scrolled": true
   },
   "outputs": [
    {
     "data": {
      "text/html": [
       "<div>\n",
       "<style scoped>\n",
       "    .dataframe tbody tr th:only-of-type {\n",
       "        vertical-align: middle;\n",
       "    }\n",
       "\n",
       "    .dataframe tbody tr th {\n",
       "        vertical-align: top;\n",
       "    }\n",
       "\n",
       "    .dataframe thead th {\n",
       "        text-align: right;\n",
       "    }\n",
       "</style>\n",
       "<table border=\"1\" class=\"dataframe\">\n",
       "  <thead>\n",
       "    <tr style=\"text-align: right;\">\n",
       "      <th></th>\n",
       "      <th>price</th>\n",
       "      <th>area</th>\n",
       "      <th>bedrooms</th>\n",
       "      <th>bathrooms</th>\n",
       "      <th>stories</th>\n",
       "      <th>parking</th>\n",
       "    </tr>\n",
       "  </thead>\n",
       "  <tbody>\n",
       "    <tr>\n",
       "      <th>price</th>\n",
       "      <td>1.000000</td>\n",
       "      <td>0.535997</td>\n",
       "      <td>0.366494</td>\n",
       "      <td>0.517545</td>\n",
       "      <td>0.420712</td>\n",
       "      <td>0.384394</td>\n",
       "    </tr>\n",
       "    <tr>\n",
       "      <th>area</th>\n",
       "      <td>0.535997</td>\n",
       "      <td>1.000000</td>\n",
       "      <td>0.151858</td>\n",
       "      <td>0.193820</td>\n",
       "      <td>0.083996</td>\n",
       "      <td>0.352980</td>\n",
       "    </tr>\n",
       "    <tr>\n",
       "      <th>bedrooms</th>\n",
       "      <td>0.366494</td>\n",
       "      <td>0.151858</td>\n",
       "      <td>1.000000</td>\n",
       "      <td>0.373930</td>\n",
       "      <td>0.408564</td>\n",
       "      <td>0.139270</td>\n",
       "    </tr>\n",
       "    <tr>\n",
       "      <th>bathrooms</th>\n",
       "      <td>0.517545</td>\n",
       "      <td>0.193820</td>\n",
       "      <td>0.373930</td>\n",
       "      <td>1.000000</td>\n",
       "      <td>0.326165</td>\n",
       "      <td>0.177496</td>\n",
       "    </tr>\n",
       "    <tr>\n",
       "      <th>stories</th>\n",
       "      <td>0.420712</td>\n",
       "      <td>0.083996</td>\n",
       "      <td>0.408564</td>\n",
       "      <td>0.326165</td>\n",
       "      <td>1.000000</td>\n",
       "      <td>0.045547</td>\n",
       "    </tr>\n",
       "    <tr>\n",
       "      <th>parking</th>\n",
       "      <td>0.384394</td>\n",
       "      <td>0.352980</td>\n",
       "      <td>0.139270</td>\n",
       "      <td>0.177496</td>\n",
       "      <td>0.045547</td>\n",
       "      <td>1.000000</td>\n",
       "    </tr>\n",
       "  </tbody>\n",
       "</table>\n",
       "</div>"
      ],
      "text/plain": [
       "              price      area  bedrooms  bathrooms   stories   parking\n",
       "price      1.000000  0.535997  0.366494   0.517545  0.420712  0.384394\n",
       "area       0.535997  1.000000  0.151858   0.193820  0.083996  0.352980\n",
       "bedrooms   0.366494  0.151858  1.000000   0.373930  0.408564  0.139270\n",
       "bathrooms  0.517545  0.193820  0.373930   1.000000  0.326165  0.177496\n",
       "stories    0.420712  0.083996  0.408564   0.326165  1.000000  0.045547\n",
       "parking    0.384394  0.352980  0.139270   0.177496  0.045547  1.000000"
      ]
     },
     "execution_count": 11,
     "metadata": {},
     "output_type": "execute_result"
    }
   ],
   "source": [
    "cor=df.corr()\n",
    "cor"
   ]
  },
  {
   "cell_type": "code",
   "execution_count": 12,
   "id": "c0347069",
   "metadata": {},
   "outputs": [
    {
     "data": {
      "text/plain": [
       "<AxesSubplot:>"
      ]
     },
     "execution_count": 12,
     "metadata": {},
     "output_type": "execute_result"
    },
    {
     "data": {
      "image/png": "[encoded data removed]",
      "text/plain": [
       "<Figure size 432x288 with 2 Axes>"
      ]
     },
     "metadata": {
      "needs_background": "light"
     },
     "output_type": "display_data"
    }
   ],
   "source": [
    "sns.heatmap(cor)"
   ]
  },
  {
   "cell_type": "markdown",
   "id": "2722e5fa",
   "metadata": {},
   "source": [
    "### 4. Perform descriptive statistics on the dataset."
   ]
  },
  {
   "cell_type": "code",
   "execution_count": 13,
   "id": "02f9dd12",
   "metadata": {},
   "outputs": [
    {
     "data": {
      "text/html": [
       "<div>\n",
       "<style scoped>\n",
       "    .dataframe tbody tr th:only-of-type {\n",
       "        vertical-align: middle;\n",
       "    }\n",
       "\n",
       "    .dataframe tbody tr th {\n",
       "        vertical-align: top;\n",
       "    }\n",
       "\n",
       "    .dataframe thead th {\n",
       "        text-align: right;\n",
       "    }\n",
       "</style>\n",
       "<table border=\"1\" class=\"dataframe\">\n",
       "  <thead>\n",
       "    <tr style=\"text-align: right;\">\n",
       "      <th></th>\n",
       "      <th>price</th>\n",
       "      <th>area</th>\n",
       "      <th>bedrooms</th>\n",
       "      <th>bathrooms</th>\n",
       "      <th>stories</th>\n",
       "      <th>parking</th>\n",
       "    </tr>\n",
       "  </thead>\n",
       "  <tbody>\n",
       "    <tr>\n",
       "      <th>0</th>\n",
       "      <td>13300000</td>\n",
       "      <td>7420</td>\n",
       "      <td>4</td>\n",
       "      <td>2</td>\n",
       "      <td>3</td>\n",
       "      <td>2</td>\n",
       "    </tr>\n",
       "    <tr>\n",
       "      <th>1</th>\n",
       "      <td>12250000</td>\n",
       "      <td>8960</td>\n",
       "      <td>4</td>\n",
       "      <td>4</td>\n",
       "      <td>4</td>\n",
       "      <td>3</td>\n",
       "    </tr>\n",
       "    <tr>\n",
       "      <th>2</th>\n",
       "      <td>12250000</td>\n",
       "      <td>9960</td>\n",
       "      <td>3</td>\n",
       "      <td>2</td>\n",
       "      <td>2</td>\n",
       "      <td>2</td>\n",
       "    </tr>\n",
       "    <tr>\n",
       "      <th>3</th>\n",
       "      <td>12215000</td>\n",
       "      <td>7500</td>\n",
       "      <td>4</td>\n",
       "      <td>2</td>\n",
       "      <td>2</td>\n",
       "      <td>3</td>\n",
       "    </tr>\n",
       "    <tr>\n",
       "      <th>4</th>\n",
       "      <td>11410000</td>\n",
       "      <td>7420</td>\n",
       "      <td>4</td>\n",
       "      <td>1</td>\n",
       "      <td>2</td>\n",
       "      <td>2</td>\n",
       "    </tr>\n",
       "  </tbody>\n",
       "</table>\n",
       "</div>"
      ],
      "text/plain": [
       "      price  area  bedrooms  bathrooms  stories  parking\n",
       "0  13300000  7420         4          2        3        2\n",
       "1  12250000  8960         4          4        4        3\n",
       "2  12250000  9960         3          2        2        2\n",
       "3  12215000  7500         4          2        2        3\n",
       "4  11410000  7420         4          1        2        2"
      ]
     },
     "execution_count": 13,
     "metadata": {},
     "output_type": "execute_result"
    }
   ],
   "source": [
    "# Selecting only numerical columns to perform descriptive statistics\n",
    "data=df.loc[:,['price','area','bedrooms','bathrooms','stories','parking']]\n",
    "data.head()"
   ]
  },
  {
   "cell_type": "code",
   "execution_count": 14,
   "id": "540cd8eb",
   "metadata": {
    "scrolled": true
   },
   "outputs": [
    {
     "data": {
      "text/plain": [
       "price        4.766729e+06\n",
       "area         5.150541e+03\n",
       "bedrooms     2.965138e+00\n",
       "bathrooms    1.286239e+00\n",
       "stories      1.805505e+00\n",
       "parking      6.935780e-01\n",
       "dtype: float64"
      ]
     },
     "execution_count": 14,
     "metadata": {},
     "output_type": "execute_result"
    }
   ],
   "source": [
    "# measure of central tendency - mean,median,mode\n",
    "\n",
    "#mean\n",
    "data.mean()"
   ]
  },
  {
   "cell_type": "code",
   "execution_count": 15,
   "id": "a82991a4",
   "metadata": {},
   "outputs": [
    {
     "data": {
      "text/plain": [
       "price        4340000.0\n",
       "area            4600.0\n",
       "bedrooms           3.0\n",
       "bathrooms          1.0\n",
       "stories            2.0\n",
       "parking            0.0\n",
       "dtype: float64"
      ]
     },
     "execution_count": 15,
     "metadata": {},
     "output_type": "execute_result"
    }
   ],
   "source": [
    "#median\n",
    "data.median()"
   ]
  },
  {
   "cell_type": "code",
   "execution_count": 16,
   "id": "6d5b6cf3",
   "metadata": {},
   "outputs": [
    {
     "data": {
      "text/html": [
       "<div>\n",
       "<style scoped>\n",
       "    .dataframe tbody tr th:only-of-type {\n",
       "        vertical-align: middle;\n",
       "    }\n",
       "\n",
       "    .dataframe tbody tr th {\n",
       "        vertical-align: top;\n",
       "    }\n",
       "\n",
       "    .dataframe thead th {\n",
       "        text-align: right;\n",
       "    }\n",
       "</style>\n",
       "<table border=\"1\" class=\"dataframe\">\n",
       "  <thead>\n",
       "    <tr style=\"text-align: right;\">\n",
       "      <th></th>\n",
       "      <th>price</th>\n",
       "      <th>area</th>\n",
       "      <th>bedrooms</th>\n",
       "      <th>bathrooms</th>\n",
       "      <th>stories</th>\n",
       "      <th>parking</th>\n",
       "    </tr>\n",
       "  </thead>\n",
       "  <tbody>\n",
       "    <tr>\n",
       "      <th>0</th>\n",
       "      <td>3500000</td>\n",
       "      <td>6000.0</td>\n",
       "      <td>3.0</td>\n",
       "      <td>1.0</td>\n",
       "      <td>2.0</td>\n",
       "      <td>0.0</td>\n",
       "    </tr>\n",
       "    <tr>\n",
       "      <th>1</th>\n",
       "      <td>4200000</td>\n",
       "      <td>NaN</td>\n",
       "      <td>NaN</td>\n",
       "      <td>NaN</td>\n",
       "      <td>NaN</td>\n",
       "      <td>NaN</td>\n",
       "    </tr>\n",
       "  </tbody>\n",
       "</table>\n",
       "</div>"
      ],
      "text/plain": [
       "     price    area  bedrooms  bathrooms  stories  parking\n",
       "0  3500000  6000.0       3.0        1.0      2.0      0.0\n",
       "1  4200000     NaN       NaN        NaN      NaN      NaN"
      ]
     },
     "execution_count": 16,
     "metadata": {},
     "output_type": "execute_result"
    }
   ],
   "source": [
    "#mode\n",
    "data.mode()"
   ]
  },
  {
   "cell_type": "code",
   "execution_count": 17,
   "id": "307f1988",
   "metadata": {},
   "outputs": [
    {
     "data": {
      "text/plain": [
       "price        13300000\n",
       "area            16200\n",
       "bedrooms            6\n",
       "bathrooms           4\n",
       "stories             4\n",
       "parking             3\n",
       "dtype: int64"
      ]
     },
     "execution_count": 17,
     "metadata": {},
     "output_type": "execute_result"
    }
   ],
   "source": [
    "#Measure of Variability - Range, Variance, Standard Deviation\n",
    "\n",
    "#range\n",
    "data.max()"
   ]
  },
  {
   "cell_type": "code",
   "execution_count": 18,
   "id": "04a70237",
   "metadata": {},
   "outputs": [
    {
     "data": {
      "text/plain": [
       "price        1750000\n",
       "area            1650\n",
       "bedrooms           1\n",
       "bathrooms          1\n",
       "stories            1\n",
       "parking            0\n",
       "dtype: int64"
      ]
     },
     "execution_count": 18,
     "metadata": {},
     "output_type": "execute_result"
    }
   ],
   "source": [
    "data.min()"
   ]
  },
  {
   "cell_type": "code",
   "execution_count": 19,
   "id": "6d62b91e",
   "metadata": {},
   "outputs": [
    {
     "data": {
      "text/plain": [
       "price        11550000\n",
       "area            14550\n",
       "bedrooms            5\n",
       "bathrooms           3\n",
       "stories             3\n",
       "parking             3\n",
       "dtype: int64"
      ]
     },
     "execution_count": 19,
     "metadata": {},
     "output_type": "execute_result"
    }
   ],
   "source": [
    "df_range=data.max()-data.min()\n",
    "df_range"
   ]
  },
  {
   "cell_type": "code",
   "execution_count": 20,
   "id": "b311fded",
   "metadata": {},
   "outputs": [
    {
     "data": {
      "text/plain": [
       "price        3.498544e+12\n",
       "area         4.709512e+06\n",
       "bedrooms     5.447383e-01\n",
       "bathrooms    2.524757e-01\n",
       "stories      7.525432e-01\n",
       "parking      7.423300e-01\n",
       "dtype: float64"
      ]
     },
     "execution_count": 20,
     "metadata": {},
     "output_type": "execute_result"
    }
   ],
   "source": [
    "#variance\n",
    "data.var()"
   ]
  },
  {
   "cell_type": "code",
   "execution_count": 21,
   "id": "e217ab8d",
   "metadata": {},
   "outputs": [
    {
     "data": {
      "text/plain": [
       "price        1.870440e+06\n",
       "area         2.170141e+03\n",
       "bedrooms     7.380639e-01\n",
       "bathrooms    5.024696e-01\n",
       "stories      8.674925e-01\n",
       "parking      8.615858e-01\n",
       "dtype: float64"
      ]
     },
     "execution_count": 21,
     "metadata": {},
     "output_type": "execute_result"
    }
   ],
   "source": [
    "#standard deviation\n",
    "data.std()"
   ]
  },
  {
   "cell_type": "markdown",
   "id": "50a2e52f",
   "metadata": {},
   "source": [
    "### 5. Handle the Missing values."
   ]
  },
  {
   "cell_type": "code",
   "execution_count": 22,
   "id": "13a50a32",
   "metadata": {},
   "outputs": [
    {
     "data": {
      "text/plain": [
       "price               0\n",
       "area                0\n",
       "bedrooms            0\n",
       "bathrooms           0\n",
       "stories             0\n",
       "mainroad            0\n",
       "guestroom           0\n",
       "basement            0\n",
       "hotwaterheating     0\n",
       "airconditioning     0\n",
       "parking             0\n",
       "furnishingstatus    0\n",
       "dtype: int64"
      ]
     },
     "execution_count": 22,
     "metadata": {},
     "output_type": "execute_result"
    }
   ],
   "source": [
    "df.isnull().sum()"
   ]
  },
  {
   "cell_type": "markdown",
   "id": "0f324ef6",
   "metadata": {},
   "source": [
    "### So as we can see there are no missing values in the given dataset."
   ]
  },
  {
   "cell_type": "markdown",
   "id": "d72ab136",
   "metadata": {},
   "source": [
    "### 6. Find the outliers and replace the outliers"
   ]
  },
  {
   "cell_type": "markdown",
   "id": "316ccfa0",
   "metadata": {},
   "source": [
    "### Price"
   ]
  },
  {
   "cell_type": "code",
   "execution_count": 23,
   "id": "4fe587d1",
   "metadata": {},
   "outputs": [
    {
     "name": "stderr",
     "output_type": "stream",
     "text": [
      "C:\\Users\\hp\\anaconda3\\lib\\site-packages\\seaborn\\_decorators.py:36: FutureWarning: Pass the following variable as a keyword arg: x. From version 0.12, the only valid positional argument will be `data`, and passing other arguments without an explicit keyword will result in an error or misinterpretation.\n",
      "  warnings.warn(\n"
     ]
    },
    {
     "data": {
      "text/plain": [
       "<AxesSubplot:xlabel='price'>"
      ]
     },
     "execution_count": 23,
     "metadata": {},
     "output_type": "execute_result"
    },
    {
     "data": {
      "image/png": "[encoded data removed]",
      "text/plain": [
       "<Figure size 432x288 with 1 Axes>"
      ]
     },
     "metadata": {
      "needs_background": "light"
     },
     "output_type": "display_data"
    }
   ],
   "source": [
    "sns.boxplot(df['price'])"
   ]
  },
  {
   "cell_type": "code",
   "execution_count": 24,
   "id": "c7cad194",
   "metadata": {},
   "outputs": [
    {
     "data": {
      "text/html": [
       "<div>\n",
       "<style scoped>\n",
       "    .dataframe tbody tr th:only-of-type {\n",
       "        vertical-align: middle;\n",
       "    }\n",
       "\n",
       "    .dataframe tbody tr th {\n",
       "        vertical-align: top;\n",
       "    }\n",
       "\n",
       "    .dataframe thead th {\n",
       "        text-align: right;\n",
       "    }\n",
       "</style>\n",
       "<table border=\"1\" class=\"dataframe\">\n",
       "  <thead>\n",
       "    <tr style=\"text-align: right;\">\n",
       "      <th></th>\n",
       "      <th>price</th>\n",
       "      <th>area</th>\n",
       "      <th>bedrooms</th>\n",
       "      <th>bathrooms</th>\n",
       "      <th>stories</th>\n",
       "      <th>mainroad</th>\n",
       "      <th>guestroom</th>\n",
       "      <th>basement</th>\n",
       "      <th>hotwaterheating</th>\n",
       "      <th>airconditioning</th>\n",
       "      <th>parking</th>\n",
       "      <th>furnishingstatus</th>\n",
       "    </tr>\n",
       "  </thead>\n",
       "  <tbody>\n",
       "    <tr>\n",
       "      <th>0</th>\n",
       "      <td>13300000</td>\n",
       "      <td>7420</td>\n",
       "      <td>4</td>\n",
       "      <td>2</td>\n",
       "      <td>3</td>\n",
       "      <td>yes</td>\n",
       "      <td>no</td>\n",
       "      <td>no</td>\n",
       "      <td>no</td>\n",
       "      <td>yes</td>\n",
       "      <td>2</td>\n",
       "      <td>furnished</td>\n",
       "    </tr>\n",
       "    <tr>\n",
       "      <th>1</th>\n",
       "      <td>12250000</td>\n",
       "      <td>8960</td>\n",
       "      <td>4</td>\n",
       "      <td>4</td>\n",
       "      <td>4</td>\n",
       "      <td>yes</td>\n",
       "      <td>no</td>\n",
       "      <td>no</td>\n",
       "      <td>no</td>\n",
       "      <td>yes</td>\n",
       "      <td>3</td>\n",
       "      <td>furnished</td>\n",
       "    </tr>\n",
       "    <tr>\n",
       "      <th>2</th>\n",
       "      <td>12250000</td>\n",
       "      <td>9960</td>\n",
       "      <td>3</td>\n",
       "      <td>2</td>\n",
       "      <td>2</td>\n",
       "      <td>yes</td>\n",
       "      <td>no</td>\n",
       "      <td>yes</td>\n",
       "      <td>no</td>\n",
       "      <td>no</td>\n",
       "      <td>2</td>\n",
       "      <td>semi-furnished</td>\n",
       "    </tr>\n",
       "    <tr>\n",
       "      <th>3</th>\n",
       "      <td>12215000</td>\n",
       "      <td>7500</td>\n",
       "      <td>4</td>\n",
       "      <td>2</td>\n",
       "      <td>2</td>\n",
       "      <td>yes</td>\n",
       "      <td>no</td>\n",
       "      <td>yes</td>\n",
       "      <td>no</td>\n",
       "      <td>yes</td>\n",
       "      <td>3</td>\n",
       "      <td>furnished</td>\n",
       "    </tr>\n",
       "    <tr>\n",
       "      <th>4</th>\n",
       "      <td>11410000</td>\n",
       "      <td>7420</td>\n",
       "      <td>4</td>\n",
       "      <td>1</td>\n",
       "      <td>2</td>\n",
       "      <td>yes</td>\n",
       "      <td>yes</td>\n",
       "      <td>yes</td>\n",
       "      <td>no</td>\n",
       "      <td>yes</td>\n",
       "      <td>2</td>\n",
       "      <td>furnished</td>\n",
       "    </tr>\n",
       "    <tr>\n",
       "      <th>5</th>\n",
       "      <td>10850000</td>\n",
       "      <td>7500</td>\n",
       "      <td>3</td>\n",
       "      <td>3</td>\n",
       "      <td>1</td>\n",
       "      <td>yes</td>\n",
       "      <td>no</td>\n",
       "      <td>yes</td>\n",
       "      <td>no</td>\n",
       "      <td>yes</td>\n",
       "      <td>2</td>\n",
       "      <td>semi-furnished</td>\n",
       "    </tr>\n",
       "    <tr>\n",
       "      <th>6</th>\n",
       "      <td>10150000</td>\n",
       "      <td>8580</td>\n",
       "      <td>4</td>\n",
       "      <td>3</td>\n",
       "      <td>4</td>\n",
       "      <td>yes</td>\n",
       "      <td>no</td>\n",
       "      <td>no</td>\n",
       "      <td>no</td>\n",
       "      <td>yes</td>\n",
       "      <td>2</td>\n",
       "      <td>semi-furnished</td>\n",
       "    </tr>\n",
       "    <tr>\n",
       "      <th>7</th>\n",
       "      <td>10150000</td>\n",
       "      <td>16200</td>\n",
       "      <td>5</td>\n",
       "      <td>3</td>\n",
       "      <td>2</td>\n",
       "      <td>yes</td>\n",
       "      <td>no</td>\n",
       "      <td>no</td>\n",
       "      <td>no</td>\n",
       "      <td>no</td>\n",
       "      <td>0</td>\n",
       "      <td>unfurnished</td>\n",
       "    </tr>\n",
       "    <tr>\n",
       "      <th>8</th>\n",
       "      <td>9870000</td>\n",
       "      <td>8100</td>\n",
       "      <td>4</td>\n",
       "      <td>1</td>\n",
       "      <td>2</td>\n",
       "      <td>yes</td>\n",
       "      <td>yes</td>\n",
       "      <td>yes</td>\n",
       "      <td>no</td>\n",
       "      <td>yes</td>\n",
       "      <td>2</td>\n",
       "      <td>furnished</td>\n",
       "    </tr>\n",
       "    <tr>\n",
       "      <th>9</th>\n",
       "      <td>9800000</td>\n",
       "      <td>5750</td>\n",
       "      <td>3</td>\n",
       "      <td>2</td>\n",
       "      <td>4</td>\n",
       "      <td>yes</td>\n",
       "      <td>yes</td>\n",
       "      <td>no</td>\n",
       "      <td>no</td>\n",
       "      <td>yes</td>\n",
       "      <td>1</td>\n",
       "      <td>unfurnished</td>\n",
       "    </tr>\n",
       "    <tr>\n",
       "      <th>10</th>\n",
       "      <td>9800000</td>\n",
       "      <td>13200</td>\n",
       "      <td>3</td>\n",
       "      <td>1</td>\n",
       "      <td>2</td>\n",
       "      <td>yes</td>\n",
       "      <td>no</td>\n",
       "      <td>yes</td>\n",
       "      <td>no</td>\n",
       "      <td>yes</td>\n",
       "      <td>2</td>\n",
       "      <td>furnished</td>\n",
       "    </tr>\n",
       "    <tr>\n",
       "      <th>11</th>\n",
       "      <td>9681000</td>\n",
       "      <td>6000</td>\n",
       "      <td>4</td>\n",
       "      <td>3</td>\n",
       "      <td>2</td>\n",
       "      <td>yes</td>\n",
       "      <td>yes</td>\n",
       "      <td>yes</td>\n",
       "      <td>yes</td>\n",
       "      <td>no</td>\n",
       "      <td>2</td>\n",
       "      <td>semi-furnished</td>\n",
       "    </tr>\n",
       "    <tr>\n",
       "      <th>12</th>\n",
       "      <td>9310000</td>\n",
       "      <td>6550</td>\n",
       "      <td>4</td>\n",
       "      <td>2</td>\n",
       "      <td>2</td>\n",
       "      <td>yes</td>\n",
       "      <td>no</td>\n",
       "      <td>no</td>\n",
       "      <td>no</td>\n",
       "      <td>yes</td>\n",
       "      <td>1</td>\n",
       "      <td>semi-furnished</td>\n",
       "    </tr>\n",
       "    <tr>\n",
       "      <th>13</th>\n",
       "      <td>9240000</td>\n",
       "      <td>3500</td>\n",
       "      <td>4</td>\n",
       "      <td>2</td>\n",
       "      <td>2</td>\n",
       "      <td>yes</td>\n",
       "      <td>no</td>\n",
       "      <td>no</td>\n",
       "      <td>yes</td>\n",
       "      <td>no</td>\n",
       "      <td>2</td>\n",
       "      <td>furnished</td>\n",
       "    </tr>\n",
       "    <tr>\n",
       "      <th>14</th>\n",
       "      <td>9240000</td>\n",
       "      <td>7800</td>\n",
       "      <td>3</td>\n",
       "      <td>2</td>\n",
       "      <td>2</td>\n",
       "      <td>yes</td>\n",
       "      <td>no</td>\n",
       "      <td>no</td>\n",
       "      <td>no</td>\n",
       "      <td>no</td>\n",
       "      <td>0</td>\n",
       "      <td>semi-furnished</td>\n",
       "    </tr>\n",
       "  </tbody>\n",
       "</table>\n",
       "</div>"
      ],
      "text/plain": [
       "       price   area  bedrooms  bathrooms  stories mainroad guestroom basement  \\\n",
       "0   13300000   7420         4          2        3      yes        no       no   \n",
       "1   12250000   8960         4          4        4      yes        no       no   \n",
       "2   12250000   9960         3          2        2      yes        no      yes   \n",
       "3   12215000   7500         4          2        2      yes        no      yes   \n",
       "4   11410000   7420         4          1        2      yes       yes      yes   \n",
       "5   10850000   7500         3          3        1      yes        no      yes   \n",
       "6   10150000   8580         4          3        4      yes        no       no   \n",
       "7   10150000  16200         5          3        2      yes        no       no   \n",
       "8    9870000   8100         4          1        2      yes       yes      yes   \n",
       "9    9800000   5750         3          2        4      yes       yes       no   \n",
       "10   9800000  13200         3          1        2      yes        no      yes   \n",
       "11   9681000   6000         4          3        2      yes       yes      yes   \n",
       "12   9310000   6550         4          2        2      yes        no       no   \n",
       "13   9240000   3500         4          2        2      yes        no       no   \n",
       "14   9240000   7800         3          2        2      yes        no       no   \n",
       "\n",
       "   hotwaterheating airconditioning  parking furnishingstatus  \n",
       "0               no             yes        2        furnished  \n",
       "1               no             yes        3        furnished  \n",
       "2               no              no        2   semi-furnished  \n",
       "3               no             yes        3        furnished  \n",
       "4               no             yes        2        furnished  \n",
       "5               no             yes        2   semi-furnished  \n",
       "6               no             yes        2   semi-furnished  \n",
       "7               no              no        0      unfurnished  \n",
       "8               no             yes        2        furnished  \n",
       "9               no             yes        1      unfurnished  \n",
       "10              no             yes        2        furnished  \n",
       "11             yes              no        2   semi-furnished  \n",
       "12              no             yes        1   semi-furnished  \n",
       "13             yes              no        2        furnished  \n",
       "14              no              no        0   semi-furnished  "
      ]
     },
     "execution_count": 24,
     "metadata": {},
     "output_type": "execute_result"
    }
   ],
   "source": [
    "Q1_price=df['price'].quantile(0.25)\n",
    "Q3_price=df['price'].quantile(0.75)\n",
    "IQR_price=Q3_price-Q1_price\n",
    "lower_bound=Q1_price-1.5*IQR_price\n",
    "upper_bound=Q3_price+1.5*IQR_price\n",
    "outliers_price=df[(df['price']<lower_bound) | (df['price']>upper_bound)]\n",
    "\n",
    "outliers_price"
   ]
  },
  {
   "cell_type": "code",
   "execution_count": 25,
   "id": "d0213a08",
   "metadata": {},
   "outputs": [
    {
     "name": "stderr",
     "output_type": "stream",
     "text": [
      "C:\\Users\\hp\\anaconda3\\lib\\site-packages\\seaborn\\_decorators.py:36: FutureWarning: Pass the following variable as a keyword arg: x. From version 0.12, the only valid positional argument will be `data`, and passing other arguments without an explicit keyword will result in an error or misinterpretation.\n",
      "  warnings.warn(\n"
     ]
    },
    {
     "data": {
      "text/plain": [
       "<AxesSubplot:xlabel='price'>"
      ]
     },
     "execution_count": 25,
     "metadata": {},
     "output_type": "execute_result"
    },
    {
     "data": {
      "image/png": "[encoded data removed]",
      "text/plain": [
       "<Figure size 432x288 with 1 Axes>"
      ]
     },
     "metadata": {
      "needs_background": "light"
     },
     "output_type": "display_data"
    }
   ],
   "source": [
    "df['price']=np.where((df['price']<lower_bound), lower_bound, df['price'])\n",
    "df['price']=np.where((df['price']>upper_bound), upper_bound, df['price'])\n",
    "\n",
    "sns.boxplot(df['price']) #After replacing the outliers"
   ]
  },
  {
   "cell_type": "markdown",
   "id": "e511b312",
   "metadata": {},
   "source": [
    "### Area"
   ]
  },
  {
   "cell_type": "code",
   "execution_count": 26,
   "id": "cf5396ae",
   "metadata": {},
   "outputs": [
    {
     "name": "stderr",
     "output_type": "stream",
     "text": [
      "C:\\Users\\hp\\anaconda3\\lib\\site-packages\\seaborn\\_decorators.py:36: FutureWarning: Pass the following variable as a keyword arg: x. From version 0.12, the only valid positional argument will be `data`, and passing other arguments without an explicit keyword will result in an error or misinterpretation.\n",
      "  warnings.warn(\n"
     ]
    },
    {
     "data": {
      "text/plain": [
       "<AxesSubplot:xlabel='area'>"
      ]
     },
     "execution_count": 26,
     "metadata": {},
     "output_type": "execute_result"
    },
    {
     "data": {
      "image/png": "[encoded data removed]",
      "text/plain": [
       "<Figure size 432x288 with 1 Axes>"
      ]
     },
     "metadata": {
      "needs_background": "light"
     },
     "output_type": "display_data"
    }
   ],
   "source": [
    "sns.boxplot(df['area'])"
   ]
  },
  {
   "cell_type": "code",
   "execution_count": 27,
   "id": "c97a59a2",
   "metadata": {},
   "outputs": [
    {
     "data": {
      "text/html": [
       "<div>\n",
       "<style scoped>\n",
       "    .dataframe tbody tr th:only-of-type {\n",
       "        vertical-align: middle;\n",
       "    }\n",
       "\n",
       "    .dataframe tbody tr th {\n",
       "        vertical-align: top;\n",
       "    }\n",
       "\n",
       "    .dataframe thead th {\n",
       "        text-align: right;\n",
       "    }\n",
       "</style>\n",
       "<table border=\"1\" class=\"dataframe\">\n",
       "  <thead>\n",
       "    <tr style=\"text-align: right;\">\n",
       "      <th></th>\n",
       "      <th>price</th>\n",
       "      <th>area</th>\n",
       "      <th>bedrooms</th>\n",
       "      <th>bathrooms</th>\n",
       "      <th>stories</th>\n",
       "      <th>mainroad</th>\n",
       "      <th>guestroom</th>\n",
       "      <th>basement</th>\n",
       "      <th>hotwaterheating</th>\n",
       "      <th>airconditioning</th>\n",
       "      <th>parking</th>\n",
       "      <th>furnishingstatus</th>\n",
       "    </tr>\n",
       "  </thead>\n",
       "  <tbody>\n",
       "    <tr>\n",
       "      <th>7</th>\n",
       "      <td>9205000.0</td>\n",
       "      <td>16200</td>\n",
       "      <td>5</td>\n",
       "      <td>3</td>\n",
       "      <td>2</td>\n",
       "      <td>yes</td>\n",
       "      <td>no</td>\n",
       "      <td>no</td>\n",
       "      <td>no</td>\n",
       "      <td>no</td>\n",
       "      <td>0</td>\n",
       "      <td>unfurnished</td>\n",
       "    </tr>\n",
       "    <tr>\n",
       "      <th>10</th>\n",
       "      <td>9205000.0</td>\n",
       "      <td>13200</td>\n",
       "      <td>3</td>\n",
       "      <td>1</td>\n",
       "      <td>2</td>\n",
       "      <td>yes</td>\n",
       "      <td>no</td>\n",
       "      <td>yes</td>\n",
       "      <td>no</td>\n",
       "      <td>yes</td>\n",
       "      <td>2</td>\n",
       "      <td>furnished</td>\n",
       "    </tr>\n",
       "    <tr>\n",
       "      <th>56</th>\n",
       "      <td>7343000.0</td>\n",
       "      <td>11440</td>\n",
       "      <td>4</td>\n",
       "      <td>1</td>\n",
       "      <td>2</td>\n",
       "      <td>yes</td>\n",
       "      <td>no</td>\n",
       "      <td>yes</td>\n",
       "      <td>no</td>\n",
       "      <td>no</td>\n",
       "      <td>1</td>\n",
       "      <td>semi-furnished</td>\n",
       "    </tr>\n",
       "    <tr>\n",
       "      <th>64</th>\n",
       "      <td>7000000.0</td>\n",
       "      <td>11175</td>\n",
       "      <td>3</td>\n",
       "      <td>1</td>\n",
       "      <td>1</td>\n",
       "      <td>yes</td>\n",
       "      <td>no</td>\n",
       "      <td>yes</td>\n",
       "      <td>no</td>\n",
       "      <td>yes</td>\n",
       "      <td>1</td>\n",
       "      <td>furnished</td>\n",
       "    </tr>\n",
       "    <tr>\n",
       "      <th>66</th>\n",
       "      <td>6930000.0</td>\n",
       "      <td>13200</td>\n",
       "      <td>2</td>\n",
       "      <td>1</td>\n",
       "      <td>1</td>\n",
       "      <td>yes</td>\n",
       "      <td>no</td>\n",
       "      <td>yes</td>\n",
       "      <td>yes</td>\n",
       "      <td>no</td>\n",
       "      <td>1</td>\n",
       "      <td>furnished</td>\n",
       "    </tr>\n",
       "    <tr>\n",
       "      <th>69</th>\n",
       "      <td>6790000.0</td>\n",
       "      <td>12090</td>\n",
       "      <td>4</td>\n",
       "      <td>2</td>\n",
       "      <td>2</td>\n",
       "      <td>yes</td>\n",
       "      <td>no</td>\n",
       "      <td>no</td>\n",
       "      <td>no</td>\n",
       "      <td>no</td>\n",
       "      <td>2</td>\n",
       "      <td>furnished</td>\n",
       "    </tr>\n",
       "    <tr>\n",
       "      <th>125</th>\n",
       "      <td>5943000.0</td>\n",
       "      <td>15600</td>\n",
       "      <td>3</td>\n",
       "      <td>1</td>\n",
       "      <td>1</td>\n",
       "      <td>yes</td>\n",
       "      <td>no</td>\n",
       "      <td>no</td>\n",
       "      <td>no</td>\n",
       "      <td>yes</td>\n",
       "      <td>2</td>\n",
       "      <td>semi-furnished</td>\n",
       "    </tr>\n",
       "    <tr>\n",
       "      <th>129</th>\n",
       "      <td>5873000.0</td>\n",
       "      <td>11460</td>\n",
       "      <td>3</td>\n",
       "      <td>1</td>\n",
       "      <td>3</td>\n",
       "      <td>yes</td>\n",
       "      <td>no</td>\n",
       "      <td>no</td>\n",
       "      <td>no</td>\n",
       "      <td>no</td>\n",
       "      <td>2</td>\n",
       "      <td>semi-furnished</td>\n",
       "    </tr>\n",
       "    <tr>\n",
       "      <th>186</th>\n",
       "      <td>5110000.0</td>\n",
       "      <td>11410</td>\n",
       "      <td>2</td>\n",
       "      <td>1</td>\n",
       "      <td>2</td>\n",
       "      <td>yes</td>\n",
       "      <td>no</td>\n",
       "      <td>no</td>\n",
       "      <td>no</td>\n",
       "      <td>no</td>\n",
       "      <td>0</td>\n",
       "      <td>furnished</td>\n",
       "    </tr>\n",
       "    <tr>\n",
       "      <th>191</th>\n",
       "      <td>5040000.0</td>\n",
       "      <td>10700</td>\n",
       "      <td>3</td>\n",
       "      <td>1</td>\n",
       "      <td>2</td>\n",
       "      <td>yes</td>\n",
       "      <td>yes</td>\n",
       "      <td>yes</td>\n",
       "      <td>no</td>\n",
       "      <td>no</td>\n",
       "      <td>0</td>\n",
       "      <td>semi-furnished</td>\n",
       "    </tr>\n",
       "    <tr>\n",
       "      <th>211</th>\n",
       "      <td>4900000.0</td>\n",
       "      <td>12900</td>\n",
       "      <td>3</td>\n",
       "      <td>1</td>\n",
       "      <td>1</td>\n",
       "      <td>yes</td>\n",
       "      <td>no</td>\n",
       "      <td>no</td>\n",
       "      <td>no</td>\n",
       "      <td>no</td>\n",
       "      <td>2</td>\n",
       "      <td>furnished</td>\n",
       "    </tr>\n",
       "    <tr>\n",
       "      <th>403</th>\n",
       "      <td>3500000.0</td>\n",
       "      <td>12944</td>\n",
       "      <td>3</td>\n",
       "      <td>1</td>\n",
       "      <td>1</td>\n",
       "      <td>yes</td>\n",
       "      <td>no</td>\n",
       "      <td>no</td>\n",
       "      <td>no</td>\n",
       "      <td>no</td>\n",
       "      <td>0</td>\n",
       "      <td>unfurnished</td>\n",
       "    </tr>\n",
       "  </tbody>\n",
       "</table>\n",
       "</div>"
      ],
      "text/plain": [
       "         price   area  bedrooms  bathrooms  stories mainroad guestroom  \\\n",
       "7    9205000.0  16200         5          3        2      yes        no   \n",
       "10   9205000.0  13200         3          1        2      yes        no   \n",
       "56   7343000.0  11440         4          1        2      yes        no   \n",
       "64   7000000.0  11175         3          1        1      yes        no   \n",
       "66   6930000.0  13200         2          1        1      yes        no   \n",
       "69   6790000.0  12090         4          2        2      yes        no   \n",
       "125  5943000.0  15600         3          1        1      yes        no   \n",
       "129  5873000.0  11460         3          1        3      yes        no   \n",
       "186  5110000.0  11410         2          1        2      yes        no   \n",
       "191  5040000.0  10700         3          1        2      yes       yes   \n",
       "211  4900000.0  12900         3          1        1      yes        no   \n",
       "403  3500000.0  12944         3          1        1      yes        no   \n",
       "\n",
       "    basement hotwaterheating airconditioning  parking furnishingstatus  \n",
       "7         no              no              no        0      unfurnished  \n",
       "10       yes              no             yes        2        furnished  \n",
       "56       yes              no              no        1   semi-furnished  \n",
       "64       yes              no             yes        1        furnished  \n",
       "66       yes             yes              no        1        furnished  \n",
       "69        no              no              no        2        furnished  \n",
       "125       no              no             yes        2   semi-furnished  \n",
       "129       no              no              no        2   semi-furnished  \n",
       "186       no              no              no        0        furnished  \n",
       "191      yes              no              no        0   semi-furnished  \n",
       "211       no              no              no        2        furnished  \n",
       "403       no              no              no        0      unfurnished  "
      ]
     },
     "execution_count": 27,
     "metadata": {},
     "output_type": "execute_result"
    }
   ],
   "source": [
    "Q1_area=df['area'].quantile(0.25)\n",
    "Q3_area=df['area'].quantile(0.75)\n",
    "IQR_area=Q3_area-Q1_area\n",
    "lower_bound=Q1_area-1.5*IQR_area\n",
    "upper_bound=Q3_area+1.5*IQR_area\n",
    "outliers_area=df[(df['area']<lower_bound) | (df['area']>upper_bound)]\n",
    "\n",
    "outliers_area"
   ]
  },
  {
   "cell_type": "code",
   "execution_count": 28,
   "id": "01dbe701",
   "metadata": {},
   "outputs": [
    {
     "name": "stderr",
     "output_type": "stream",
     "text": [
      "C:\\Users\\hp\\anaconda3\\lib\\site-packages\\seaborn\\_decorators.py:36: FutureWarning: Pass the following variable as a keyword arg: x. From version 0.12, the only valid positional argument will be `data`, and passing other arguments without an explicit keyword will result in an error or misinterpretation.\n",
      "  warnings.warn(\n"
     ]
    },
    {
     "data": {
      "text/plain": [
       "<AxesSubplot:xlabel='area'>"
      ]
     },
     "execution_count": 28,
     "metadata": {},
     "output_type": "execute_result"
    },
    {
     "data": {
      "image/png": "[encoded data removed]",
      "text/plain": [
       "<Figure size 432x288 with 1 Axes>"
      ]
     },
     "metadata": {
      "needs_background": "light"
     },
     "output_type": "display_data"
    }
   ],
   "source": [
    "df['area']=np.where((df['area']<lower_bound), lower_bound, df['area'])\n",
    "df['area']=np.where((df['area']>upper_bound), upper_bound, df['area'])\n",
    "\n",
    "sns.boxplot(df['area']) #After replacing the outliers"
   ]
  },
  {
   "cell_type": "markdown",
   "id": "a9f38f27",
   "metadata": {},
   "source": [
    "### Bedrooms"
   ]
  },
  {
   "cell_type": "code",
   "execution_count": 29,
   "id": "3a9fc21f",
   "metadata": {},
   "outputs": [
    {
     "name": "stderr",
     "output_type": "stream",
     "text": [
      "C:\\Users\\hp\\anaconda3\\lib\\site-packages\\seaborn\\_decorators.py:36: FutureWarning: Pass the following variable as a keyword arg: x. From version 0.12, the only valid positional argument will be `data`, and passing other arguments without an explicit keyword will result in an error or misinterpretation.\n",
      "  warnings.warn(\n"
     ]
    },
    {
     "data": {
      "text/plain": [
       "<AxesSubplot:xlabel='bedrooms'>"
      ]
     },
     "execution_count": 29,
     "metadata": {},
     "output_type": "execute_result"
    },
    {
     "data": {
      "image/png": "[encoded data removed]",
      "text/plain": [
       "<Figure size 432x288 with 1 Axes>"
      ]
     },
     "metadata": {
      "needs_background": "light"
     },
     "output_type": "display_data"
    }
   ],
   "source": [
    "sns.boxplot(df['bedrooms'])"
   ]
  },
  {
   "cell_type": "code",
   "execution_count": 30,
   "id": "5554c6cf",
   "metadata": {},
   "outputs": [
    {
     "data": {
      "text/html": [
       "<div>\n",
       "<style scoped>\n",
       "    .dataframe tbody tr th:only-of-type {\n",
       "        vertical-align: middle;\n",
       "    }\n",
       "\n",
       "    .dataframe tbody tr th {\n",
       "        vertical-align: top;\n",
       "    }\n",
       "\n",
       "    .dataframe thead th {\n",
       "        text-align: right;\n",
       "    }\n",
       "</style>\n",
       "<table border=\"1\" class=\"dataframe\">\n",
       "  <thead>\n",
       "    <tr style=\"text-align: right;\">\n",
       "      <th></th>\n",
       "      <th>price</th>\n",
       "      <th>area</th>\n",
       "      <th>bedrooms</th>\n",
       "      <th>bathrooms</th>\n",
       "      <th>stories</th>\n",
       "      <th>mainroad</th>\n",
       "      <th>guestroom</th>\n",
       "      <th>basement</th>\n",
       "      <th>hotwaterheating</th>\n",
       "      <th>airconditioning</th>\n",
       "      <th>parking</th>\n",
       "      <th>furnishingstatus</th>\n",
       "    </tr>\n",
       "  </thead>\n",
       "  <tbody>\n",
       "    <tr>\n",
       "      <th>7</th>\n",
       "      <td>9205000.0</td>\n",
       "      <td>10500.0</td>\n",
       "      <td>5</td>\n",
       "      <td>3</td>\n",
       "      <td>2</td>\n",
       "      <td>yes</td>\n",
       "      <td>no</td>\n",
       "      <td>no</td>\n",
       "      <td>no</td>\n",
       "      <td>no</td>\n",
       "      <td>0</td>\n",
       "      <td>unfurnished</td>\n",
       "    </tr>\n",
       "    <tr>\n",
       "      <th>28</th>\n",
       "      <td>8400000.0</td>\n",
       "      <td>7950.0</td>\n",
       "      <td>5</td>\n",
       "      <td>2</td>\n",
       "      <td>2</td>\n",
       "      <td>yes</td>\n",
       "      <td>no</td>\n",
       "      <td>yes</td>\n",
       "      <td>yes</td>\n",
       "      <td>no</td>\n",
       "      <td>2</td>\n",
       "      <td>unfurnished</td>\n",
       "    </tr>\n",
       "    <tr>\n",
       "      <th>34</th>\n",
       "      <td>8120000.0</td>\n",
       "      <td>6840.0</td>\n",
       "      <td>5</td>\n",
       "      <td>1</td>\n",
       "      <td>2</td>\n",
       "      <td>yes</td>\n",
       "      <td>yes</td>\n",
       "      <td>yes</td>\n",
       "      <td>no</td>\n",
       "      <td>yes</td>\n",
       "      <td>1</td>\n",
       "      <td>furnished</td>\n",
       "    </tr>\n",
       "    <tr>\n",
       "      <th>89</th>\n",
       "      <td>6440000.0</td>\n",
       "      <td>8580.0</td>\n",
       "      <td>5</td>\n",
       "      <td>3</td>\n",
       "      <td>2</td>\n",
       "      <td>yes</td>\n",
       "      <td>no</td>\n",
       "      <td>no</td>\n",
       "      <td>no</td>\n",
       "      <td>no</td>\n",
       "      <td>2</td>\n",
       "      <td>furnished</td>\n",
       "    </tr>\n",
       "    <tr>\n",
       "      <th>112</th>\n",
       "      <td>6083000.0</td>\n",
       "      <td>4300.0</td>\n",
       "      <td>6</td>\n",
       "      <td>2</td>\n",
       "      <td>2</td>\n",
       "      <td>yes</td>\n",
       "      <td>no</td>\n",
       "      <td>no</td>\n",
       "      <td>no</td>\n",
       "      <td>no</td>\n",
       "      <td>0</td>\n",
       "      <td>furnished</td>\n",
       "    </tr>\n",
       "    <tr>\n",
       "      <th>143</th>\n",
       "      <td>5600000.0</td>\n",
       "      <td>4800.0</td>\n",
       "      <td>5</td>\n",
       "      <td>2</td>\n",
       "      <td>3</td>\n",
       "      <td>no</td>\n",
       "      <td>no</td>\n",
       "      <td>yes</td>\n",
       "      <td>yes</td>\n",
       "      <td>no</td>\n",
       "      <td>0</td>\n",
       "      <td>unfurnished</td>\n",
       "    </tr>\n",
       "    <tr>\n",
       "      <th>152</th>\n",
       "      <td>5565000.0</td>\n",
       "      <td>5400.0</td>\n",
       "      <td>5</td>\n",
       "      <td>1</td>\n",
       "      <td>2</td>\n",
       "      <td>yes</td>\n",
       "      <td>yes</td>\n",
       "      <td>yes</td>\n",
       "      <td>no</td>\n",
       "      <td>yes</td>\n",
       "      <td>0</td>\n",
       "      <td>furnished</td>\n",
       "    </tr>\n",
       "    <tr>\n",
       "      <th>271</th>\n",
       "      <td>4340000.0</td>\n",
       "      <td>1905.0</td>\n",
       "      <td>5</td>\n",
       "      <td>1</td>\n",
       "      <td>2</td>\n",
       "      <td>no</td>\n",
       "      <td>no</td>\n",
       "      <td>yes</td>\n",
       "      <td>no</td>\n",
       "      <td>no</td>\n",
       "      <td>0</td>\n",
       "      <td>semi-furnished</td>\n",
       "    </tr>\n",
       "    <tr>\n",
       "      <th>340</th>\n",
       "      <td>3850000.0</td>\n",
       "      <td>5300.0</td>\n",
       "      <td>5</td>\n",
       "      <td>2</td>\n",
       "      <td>2</td>\n",
       "      <td>yes</td>\n",
       "      <td>no</td>\n",
       "      <td>no</td>\n",
       "      <td>no</td>\n",
       "      <td>no</td>\n",
       "      <td>0</td>\n",
       "      <td>semi-furnished</td>\n",
       "    </tr>\n",
       "    <tr>\n",
       "      <th>356</th>\n",
       "      <td>3773000.0</td>\n",
       "      <td>2520.0</td>\n",
       "      <td>5</td>\n",
       "      <td>2</td>\n",
       "      <td>1</td>\n",
       "      <td>no</td>\n",
       "      <td>no</td>\n",
       "      <td>yes</td>\n",
       "      <td>no</td>\n",
       "      <td>yes</td>\n",
       "      <td>1</td>\n",
       "      <td>furnished</td>\n",
       "    </tr>\n",
       "    <tr>\n",
       "      <th>395</th>\n",
       "      <td>3500000.0</td>\n",
       "      <td>3600.0</td>\n",
       "      <td>6</td>\n",
       "      <td>1</td>\n",
       "      <td>2</td>\n",
       "      <td>yes</td>\n",
       "      <td>no</td>\n",
       "      <td>no</td>\n",
       "      <td>no</td>\n",
       "      <td>no</td>\n",
       "      <td>1</td>\n",
       "      <td>unfurnished</td>\n",
       "    </tr>\n",
       "    <tr>\n",
       "      <th>536</th>\n",
       "      <td>1960000.0</td>\n",
       "      <td>3420.0</td>\n",
       "      <td>5</td>\n",
       "      <td>1</td>\n",
       "      <td>2</td>\n",
       "      <td>no</td>\n",
       "      <td>no</td>\n",
       "      <td>no</td>\n",
       "      <td>no</td>\n",
       "      <td>no</td>\n",
       "      <td>0</td>\n",
       "      <td>unfurnished</td>\n",
       "    </tr>\n",
       "  </tbody>\n",
       "</table>\n",
       "</div>"
      ],
      "text/plain": [
       "         price     area  bedrooms  bathrooms  stories mainroad guestroom  \\\n",
       "7    9205000.0  10500.0         5          3        2      yes        no   \n",
       "28   8400000.0   7950.0         5          2        2      yes        no   \n",
       "34   8120000.0   6840.0         5          1        2      yes       yes   \n",
       "89   6440000.0   8580.0         5          3        2      yes        no   \n",
       "112  6083000.0   4300.0         6          2        2      yes        no   \n",
       "143  5600000.0   4800.0         5          2        3       no        no   \n",
       "152  5565000.0   5400.0         5          1        2      yes       yes   \n",
       "271  4340000.0   1905.0         5          1        2       no        no   \n",
       "340  3850000.0   5300.0         5          2        2      yes        no   \n",
       "356  3773000.0   2520.0         5          2        1       no        no   \n",
       "395  3500000.0   3600.0         6          1        2      yes        no   \n",
       "536  1960000.0   3420.0         5          1        2       no        no   \n",
       "\n",
       "    basement hotwaterheating airconditioning  parking furnishingstatus  \n",
       "7         no              no              no        0      unfurnished  \n",
       "28       yes             yes              no        2      unfurnished  \n",
       "34       yes              no             yes        1        furnished  \n",
       "89        no              no              no        2        furnished  \n",
       "112       no              no              no        0        furnished  \n",
       "143      yes             yes              no        0      unfurnished  \n",
       "152      yes              no             yes        0        furnished  \n",
       "271      yes              no              no        0   semi-furnished  \n",
       "340       no              no              no        0   semi-furnished  \n",
       "356      yes              no             yes        1        furnished  \n",
       "395       no              no              no        1      unfurnished  \n",
       "536       no              no              no        0      unfurnished  "
      ]
     },
     "execution_count": 30,
     "metadata": {},
     "output_type": "execute_result"
    }
   ],
   "source": [
    "Q1_bedrooms=df['bedrooms'].quantile(0.25)\n",
    "Q3_bedrooms=df['bedrooms'].quantile(0.75)\n",
    "IQR_bedrooms=Q3_bedrooms-Q1_bedrooms\n",
    "lower_bound=Q1_bedrooms-1.5*IQR_bedrooms\n",
    "upper_bound=Q3_bedrooms+1.5*IQR_bedrooms\n",
    "outliers_bedrooms=df[(df['bedrooms']<lower_bound) | (df['bedrooms']>upper_bound)]\n",
    "\n",
    "outliers_bedrooms"
   ]
  },
  {
   "cell_type": "code",
   "execution_count": 31,
   "id": "14e90e3f",
   "metadata": {},
   "outputs": [
    {
     "name": "stderr",
     "output_type": "stream",
     "text": [
      "C:\\Users\\hp\\anaconda3\\lib\\site-packages\\seaborn\\_decorators.py:36: FutureWarning: Pass the following variable as a keyword arg: x. From version 0.12, the only valid positional argument will be `data`, and passing other arguments without an explicit keyword will result in an error or misinterpretation.\n",
      "  warnings.warn(\n"
     ]
    },
    {
     "data": {
      "text/plain": [
       "<AxesSubplot:xlabel='bedrooms'>"
      ]
     },
     "execution_count": 31,
     "metadata": {},
     "output_type": "execute_result"
    },
    {
     "data": {
      "image/png": "[encoded data removed]",
      "text/plain": [
       "<Figure size 432x288 with 1 Axes>"
      ]
     },
     "metadata": {
      "needs_background": "light"
     },
     "output_type": "display_data"
    }
   ],
   "source": [
    "df['bedrooms']=np.where((df['bedrooms']<lower_bound), lower_bound, df['bedrooms'])\n",
    "df['bedrooms']=np.where((df['bedrooms']>upper_bound), upper_bound, df['bedrooms'])\n",
    "\n",
    "sns.boxplot(df['bedrooms']) #After replacing the outliers"
   ]
  },
  {
   "cell_type": "markdown",
   "id": "431c8313",
   "metadata": {},
   "source": [
    "### Bathrooms"
   ]
  },
  {
   "cell_type": "code",
   "execution_count": 32,
   "id": "7d5f1dc5",
   "metadata": {},
   "outputs": [
    {
     "name": "stderr",
     "output_type": "stream",
     "text": [
      "C:\\Users\\hp\\anaconda3\\lib\\site-packages\\seaborn\\_decorators.py:36: FutureWarning: Pass the following variable as a keyword arg: x. From version 0.12, the only valid positional argument will be `data`, and passing other arguments without an explicit keyword will result in an error or misinterpretation.\n",
      "  warnings.warn(\n"
     ]
    },
    {
     "data": {
      "text/plain": [
       "<AxesSubplot:xlabel='bathrooms'>"
      ]
     },
     "execution_count": 32,
     "metadata": {},
     "output_type": "execute_result"
    },
    {
     "data": {
      "image/png": "[encoded data removed]",
      "text/plain": [
       "<Figure size 432x288 with 1 Axes>"
      ]
     },
     "metadata": {
      "needs_background": "light"
     },
     "output_type": "display_data"
    }
   ],
   "source": [
    "sns.boxplot(df['bathrooms'])"
   ]
  },
  {
   "cell_type": "code",
   "execution_count": 33,
   "id": "07967413",
   "metadata": {
    "scrolled": true
   },
   "outputs": [
    {
     "data": {
      "text/html": [
       "<div>\n",
       "<style scoped>\n",
       "    .dataframe tbody tr th:only-of-type {\n",
       "        vertical-align: middle;\n",
       "    }\n",
       "\n",
       "    .dataframe tbody tr th {\n",
       "        vertical-align: top;\n",
       "    }\n",
       "\n",
       "    .dataframe thead th {\n",
       "        text-align: right;\n",
       "    }\n",
       "</style>\n",
       "<table border=\"1\" class=\"dataframe\">\n",
       "  <thead>\n",
       "    <tr style=\"text-align: right;\">\n",
       "      <th></th>\n",
       "      <th>price</th>\n",
       "      <th>area</th>\n",
       "      <th>bedrooms</th>\n",
       "      <th>bathrooms</th>\n",
       "      <th>stories</th>\n",
       "      <th>mainroad</th>\n",
       "      <th>guestroom</th>\n",
       "      <th>basement</th>\n",
       "      <th>hotwaterheating</th>\n",
       "      <th>airconditioning</th>\n",
       "      <th>parking</th>\n",
       "      <th>furnishingstatus</th>\n",
       "    </tr>\n",
       "  </thead>\n",
       "  <tbody>\n",
       "    <tr>\n",
       "      <th>1</th>\n",
       "      <td>9205000.0</td>\n",
       "      <td>8960.0</td>\n",
       "      <td>4.0</td>\n",
       "      <td>4</td>\n",
       "      <td>4</td>\n",
       "      <td>yes</td>\n",
       "      <td>no</td>\n",
       "      <td>no</td>\n",
       "      <td>no</td>\n",
       "      <td>yes</td>\n",
       "      <td>3</td>\n",
       "      <td>furnished</td>\n",
       "    </tr>\n",
       "  </tbody>\n",
       "</table>\n",
       "</div>"
      ],
      "text/plain": [
       "       price    area  bedrooms  bathrooms  stories mainroad guestroom  \\\n",
       "1  9205000.0  8960.0       4.0          4        4      yes        no   \n",
       "\n",
       "  basement hotwaterheating airconditioning  parking furnishingstatus  \n",
       "1       no              no             yes        3        furnished  "
      ]
     },
     "execution_count": 33,
     "metadata": {},
     "output_type": "execute_result"
    }
   ],
   "source": [
    "Q1_bathrooms=df['bathrooms'].quantile(0.25)\n",
    "Q3_bathrooms=df['bathrooms'].quantile(0.75)\n",
    "IQR_bathrooms=Q3_bathrooms-Q1_bathrooms\n",
    "lower_bound=Q1_bathrooms-1.5*IQR_bathrooms\n",
    "upper_bound=Q3_bathrooms+1.5*IQR_bathrooms\n",
    "outliers_bathrooms=df[(df['bathrooms']<lower_bound) | (df['bathrooms']>upper_bound)]\n",
    "\n",
    "outliers_bathrooms"
   ]
  },
  {
   "cell_type": "code",
   "execution_count": 34,
   "id": "caf0ccf1",
   "metadata": {},
   "outputs": [
    {
     "name": "stderr",
     "output_type": "stream",
     "text": [
      "C:\\Users\\hp\\anaconda3\\lib\\site-packages\\seaborn\\_decorators.py:36: FutureWarning: Pass the following variable as a keyword arg: x. From version 0.12, the only valid positional argument will be `data`, and passing other arguments without an explicit keyword will result in an error or misinterpretation.\n",
      "  warnings.warn(\n"
     ]
    },
    {
     "data": {
      "text/plain": [
       "<AxesSubplot:xlabel='bathrooms'>"
      ]
     },
     "execution_count": 34,
     "metadata": {},
     "output_type": "execute_result"
    },
    {
     "data": {
      "image/png": "[encoded data removed]",
      "text/plain": [
       "<Figure size 432x288 with 1 Axes>"
      ]
     },
     "metadata": {
      "needs_background": "light"
     },
     "output_type": "display_data"
    }
   ],
   "source": [
    "df['bathrooms']=np.where((df['bathrooms']<lower_bound), lower_bound, df['bathrooms'])\n",
    "df['bathrooms']=np.where((df['bathrooms']>upper_bound), upper_bound, df['bathrooms'])\n",
    "\n",
    "sns.boxplot(df['bathrooms']) #After replacing the outliers"
   ]
  },
  {
   "cell_type": "markdown",
   "id": "a3ca12b4",
   "metadata": {},
   "source": [
    "### Stories"
   ]
  },
  {
   "cell_type": "code",
   "execution_count": 35,
   "id": "26750614",
   "metadata": {},
   "outputs": [
    {
     "name": "stderr",
     "output_type": "stream",
     "text": [
      "C:\\Users\\hp\\anaconda3\\lib\\site-packages\\seaborn\\_decorators.py:36: FutureWarning: Pass the following variable as a keyword arg: x. From version 0.12, the only valid positional argument will be `data`, and passing other arguments without an explicit keyword will result in an error or misinterpretation.\n",
      "  warnings.warn(\n"
     ]
    },
    {
     "data": {
      "text/plain": [
       "<AxesSubplot:xlabel='stories'>"
      ]
     },
     "execution_count": 35,
     "metadata": {},
     "output_type": "execute_result"
    },
    {
     "data": {
      "image/png": "[encoded data removed]",
      "text/plain": [
       "<Figure size 432x288 with 1 Axes>"
      ]
     },
     "metadata": {
      "needs_background": "light"
     },
     "output_type": "display_data"
    }
   ],
   "source": [
    "sns.boxplot(df['stories'])"
   ]
  },
  {
   "cell_type": "code",
   "execution_count": 36,
   "id": "f31ed8a5",
   "metadata": {},
   "outputs": [
    {
     "data": {
      "text/html": [
       "<div>\n",
       "<style scoped>\n",
       "    .dataframe tbody tr th:only-of-type {\n",
       "        vertical-align: middle;\n",
       "    }\n",
       "\n",
       "    .dataframe tbody tr th {\n",
       "        vertical-align: top;\n",
       "    }\n",
       "\n",
       "    .dataframe thead th {\n",
       "        text-align: right;\n",
       "    }\n",
       "</style>\n",
       "<table border=\"1\" class=\"dataframe\">\n",
       "  <thead>\n",
       "    <tr style=\"text-align: right;\">\n",
       "      <th></th>\n",
       "      <th>price</th>\n",
       "      <th>area</th>\n",
       "      <th>bedrooms</th>\n",
       "      <th>bathrooms</th>\n",
       "      <th>stories</th>\n",
       "      <th>mainroad</th>\n",
       "      <th>guestroom</th>\n",
       "      <th>basement</th>\n",
       "      <th>hotwaterheating</th>\n",
       "      <th>airconditioning</th>\n",
       "      <th>parking</th>\n",
       "      <th>furnishingstatus</th>\n",
       "    </tr>\n",
       "  </thead>\n",
       "  <tbody>\n",
       "    <tr>\n",
       "      <th>1</th>\n",
       "      <td>9205000.0</td>\n",
       "      <td>8960.0</td>\n",
       "      <td>4.0</td>\n",
       "      <td>3.5</td>\n",
       "      <td>4</td>\n",
       "      <td>yes</td>\n",
       "      <td>no</td>\n",
       "      <td>no</td>\n",
       "      <td>no</td>\n",
       "      <td>yes</td>\n",
       "      <td>3</td>\n",
       "      <td>furnished</td>\n",
       "    </tr>\n",
       "    <tr>\n",
       "      <th>6</th>\n",
       "      <td>9205000.0</td>\n",
       "      <td>8580.0</td>\n",
       "      <td>4.0</td>\n",
       "      <td>3.0</td>\n",
       "      <td>4</td>\n",
       "      <td>yes</td>\n",
       "      <td>no</td>\n",
       "      <td>no</td>\n",
       "      <td>no</td>\n",
       "      <td>yes</td>\n",
       "      <td>2</td>\n",
       "      <td>semi-furnished</td>\n",
       "    </tr>\n",
       "    <tr>\n",
       "      <th>9</th>\n",
       "      <td>9205000.0</td>\n",
       "      <td>5750.0</td>\n",
       "      <td>3.0</td>\n",
       "      <td>2.0</td>\n",
       "      <td>4</td>\n",
       "      <td>yes</td>\n",
       "      <td>yes</td>\n",
       "      <td>no</td>\n",
       "      <td>no</td>\n",
       "      <td>yes</td>\n",
       "      <td>1</td>\n",
       "      <td>unfurnished</td>\n",
       "    </tr>\n",
       "    <tr>\n",
       "      <th>17</th>\n",
       "      <td>8960000.0</td>\n",
       "      <td>8500.0</td>\n",
       "      <td>3.0</td>\n",
       "      <td>2.0</td>\n",
       "      <td>4</td>\n",
       "      <td>yes</td>\n",
       "      <td>no</td>\n",
       "      <td>no</td>\n",
       "      <td>no</td>\n",
       "      <td>yes</td>\n",
       "      <td>2</td>\n",
       "      <td>furnished</td>\n",
       "    </tr>\n",
       "    <tr>\n",
       "      <th>26</th>\n",
       "      <td>8463000.0</td>\n",
       "      <td>6000.0</td>\n",
       "      <td>3.0</td>\n",
       "      <td>2.0</td>\n",
       "      <td>4</td>\n",
       "      <td>yes</td>\n",
       "      <td>yes</td>\n",
       "      <td>yes</td>\n",
       "      <td>no</td>\n",
       "      <td>yes</td>\n",
       "      <td>0</td>\n",
       "      <td>semi-furnished</td>\n",
       "    </tr>\n",
       "    <tr>\n",
       "      <th>30</th>\n",
       "      <td>8400000.0</td>\n",
       "      <td>7475.0</td>\n",
       "      <td>3.0</td>\n",
       "      <td>2.0</td>\n",
       "      <td>4</td>\n",
       "      <td>yes</td>\n",
       "      <td>no</td>\n",
       "      <td>no</td>\n",
       "      <td>no</td>\n",
       "      <td>yes</td>\n",
       "      <td>2</td>\n",
       "      <td>unfurnished</td>\n",
       "    </tr>\n",
       "    <tr>\n",
       "      <th>31</th>\n",
       "      <td>8400000.0</td>\n",
       "      <td>7000.0</td>\n",
       "      <td>3.0</td>\n",
       "      <td>1.0</td>\n",
       "      <td>4</td>\n",
       "      <td>yes</td>\n",
       "      <td>no</td>\n",
       "      <td>no</td>\n",
       "      <td>no</td>\n",
       "      <td>yes</td>\n",
       "      <td>2</td>\n",
       "      <td>semi-furnished</td>\n",
       "    </tr>\n",
       "    <tr>\n",
       "      <th>35</th>\n",
       "      <td>8080940.0</td>\n",
       "      <td>7000.0</td>\n",
       "      <td>3.0</td>\n",
       "      <td>2.0</td>\n",
       "      <td>4</td>\n",
       "      <td>yes</td>\n",
       "      <td>no</td>\n",
       "      <td>no</td>\n",
       "      <td>no</td>\n",
       "      <td>yes</td>\n",
       "      <td>2</td>\n",
       "      <td>furnished</td>\n",
       "    </tr>\n",
       "    <tr>\n",
       "      <th>37</th>\n",
       "      <td>7980000.0</td>\n",
       "      <td>9000.0</td>\n",
       "      <td>4.0</td>\n",
       "      <td>2.0</td>\n",
       "      <td>4</td>\n",
       "      <td>yes</td>\n",
       "      <td>no</td>\n",
       "      <td>no</td>\n",
       "      <td>no</td>\n",
       "      <td>yes</td>\n",
       "      <td>2</td>\n",
       "      <td>furnished</td>\n",
       "    </tr>\n",
       "    <tr>\n",
       "      <th>38</th>\n",
       "      <td>7962500.0</td>\n",
       "      <td>6000.0</td>\n",
       "      <td>3.0</td>\n",
       "      <td>1.0</td>\n",
       "      <td>4</td>\n",
       "      <td>yes</td>\n",
       "      <td>yes</td>\n",
       "      <td>no</td>\n",
       "      <td>no</td>\n",
       "      <td>yes</td>\n",
       "      <td>2</td>\n",
       "      <td>unfurnished</td>\n",
       "    </tr>\n",
       "    <tr>\n",
       "      <th>39</th>\n",
       "      <td>7910000.0</td>\n",
       "      <td>6000.0</td>\n",
       "      <td>4.0</td>\n",
       "      <td>2.0</td>\n",
       "      <td>4</td>\n",
       "      <td>yes</td>\n",
       "      <td>no</td>\n",
       "      <td>no</td>\n",
       "      <td>no</td>\n",
       "      <td>yes</td>\n",
       "      <td>1</td>\n",
       "      <td>semi-furnished</td>\n",
       "    </tr>\n",
       "    <tr>\n",
       "      <th>41</th>\n",
       "      <td>7840000.0</td>\n",
       "      <td>6360.0</td>\n",
       "      <td>3.0</td>\n",
       "      <td>2.0</td>\n",
       "      <td>4</td>\n",
       "      <td>yes</td>\n",
       "      <td>no</td>\n",
       "      <td>no</td>\n",
       "      <td>no</td>\n",
       "      <td>yes</td>\n",
       "      <td>0</td>\n",
       "      <td>furnished</td>\n",
       "    </tr>\n",
       "    <tr>\n",
       "      <th>42</th>\n",
       "      <td>7700000.0</td>\n",
       "      <td>6480.0</td>\n",
       "      <td>3.0</td>\n",
       "      <td>2.0</td>\n",
       "      <td>4</td>\n",
       "      <td>yes</td>\n",
       "      <td>no</td>\n",
       "      <td>no</td>\n",
       "      <td>no</td>\n",
       "      <td>yes</td>\n",
       "      <td>2</td>\n",
       "      <td>unfurnished</td>\n",
       "    </tr>\n",
       "    <tr>\n",
       "      <th>43</th>\n",
       "      <td>7700000.0</td>\n",
       "      <td>6000.0</td>\n",
       "      <td>4.0</td>\n",
       "      <td>2.0</td>\n",
       "      <td>4</td>\n",
       "      <td>yes</td>\n",
       "      <td>no</td>\n",
       "      <td>no</td>\n",
       "      <td>no</td>\n",
       "      <td>no</td>\n",
       "      <td>2</td>\n",
       "      <td>semi-furnished</td>\n",
       "    </tr>\n",
       "    <tr>\n",
       "      <th>44</th>\n",
       "      <td>7560000.0</td>\n",
       "      <td>6000.0</td>\n",
       "      <td>4.0</td>\n",
       "      <td>2.0</td>\n",
       "      <td>4</td>\n",
       "      <td>yes</td>\n",
       "      <td>no</td>\n",
       "      <td>no</td>\n",
       "      <td>no</td>\n",
       "      <td>yes</td>\n",
       "      <td>1</td>\n",
       "      <td>furnished</td>\n",
       "    </tr>\n",
       "    <tr>\n",
       "      <th>46</th>\n",
       "      <td>7525000.0</td>\n",
       "      <td>6000.0</td>\n",
       "      <td>3.0</td>\n",
       "      <td>2.0</td>\n",
       "      <td>4</td>\n",
       "      <td>yes</td>\n",
       "      <td>no</td>\n",
       "      <td>no</td>\n",
       "      <td>no</td>\n",
       "      <td>yes</td>\n",
       "      <td>1</td>\n",
       "      <td>furnished</td>\n",
       "    </tr>\n",
       "    <tr>\n",
       "      <th>47</th>\n",
       "      <td>7490000.0</td>\n",
       "      <td>6600.0</td>\n",
       "      <td>3.0</td>\n",
       "      <td>1.0</td>\n",
       "      <td>4</td>\n",
       "      <td>yes</td>\n",
       "      <td>no</td>\n",
       "      <td>no</td>\n",
       "      <td>no</td>\n",
       "      <td>yes</td>\n",
       "      <td>3</td>\n",
       "      <td>furnished</td>\n",
       "    </tr>\n",
       "    <tr>\n",
       "      <th>50</th>\n",
       "      <td>7420000.0</td>\n",
       "      <td>7440.0</td>\n",
       "      <td>3.0</td>\n",
       "      <td>2.0</td>\n",
       "      <td>4</td>\n",
       "      <td>yes</td>\n",
       "      <td>no</td>\n",
       "      <td>no</td>\n",
       "      <td>no</td>\n",
       "      <td>no</td>\n",
       "      <td>1</td>\n",
       "      <td>unfurnished</td>\n",
       "    </tr>\n",
       "    <tr>\n",
       "      <th>51</th>\n",
       "      <td>7420000.0</td>\n",
       "      <td>6325.0</td>\n",
       "      <td>3.0</td>\n",
       "      <td>1.0</td>\n",
       "      <td>4</td>\n",
       "      <td>yes</td>\n",
       "      <td>no</td>\n",
       "      <td>no</td>\n",
       "      <td>no</td>\n",
       "      <td>yes</td>\n",
       "      <td>1</td>\n",
       "      <td>unfurnished</td>\n",
       "    </tr>\n",
       "    <tr>\n",
       "      <th>52</th>\n",
       "      <td>7350000.0</td>\n",
       "      <td>6000.0</td>\n",
       "      <td>4.0</td>\n",
       "      <td>2.0</td>\n",
       "      <td>4</td>\n",
       "      <td>yes</td>\n",
       "      <td>yes</td>\n",
       "      <td>no</td>\n",
       "      <td>no</td>\n",
       "      <td>yes</td>\n",
       "      <td>1</td>\n",
       "      <td>furnished</td>\n",
       "    </tr>\n",
       "    <tr>\n",
       "      <th>53</th>\n",
       "      <td>7350000.0</td>\n",
       "      <td>5150.0</td>\n",
       "      <td>3.0</td>\n",
       "      <td>2.0</td>\n",
       "      <td>4</td>\n",
       "      <td>yes</td>\n",
       "      <td>no</td>\n",
       "      <td>no</td>\n",
       "      <td>no</td>\n",
       "      <td>yes</td>\n",
       "      <td>2</td>\n",
       "      <td>semi-furnished</td>\n",
       "    </tr>\n",
       "    <tr>\n",
       "      <th>57</th>\n",
       "      <td>7245000.0</td>\n",
       "      <td>9000.0</td>\n",
       "      <td>4.0</td>\n",
       "      <td>2.0</td>\n",
       "      <td>4</td>\n",
       "      <td>yes</td>\n",
       "      <td>yes</td>\n",
       "      <td>no</td>\n",
       "      <td>no</td>\n",
       "      <td>yes</td>\n",
       "      <td>1</td>\n",
       "      <td>furnished</td>\n",
       "    </tr>\n",
       "    <tr>\n",
       "      <th>58</th>\n",
       "      <td>7210000.0</td>\n",
       "      <td>7680.0</td>\n",
       "      <td>4.0</td>\n",
       "      <td>2.0</td>\n",
       "      <td>4</td>\n",
       "      <td>yes</td>\n",
       "      <td>yes</td>\n",
       "      <td>no</td>\n",
       "      <td>no</td>\n",
       "      <td>yes</td>\n",
       "      <td>1</td>\n",
       "      <td>semi-furnished</td>\n",
       "    </tr>\n",
       "    <tr>\n",
       "      <th>59</th>\n",
       "      <td>7210000.0</td>\n",
       "      <td>6000.0</td>\n",
       "      <td>3.0</td>\n",
       "      <td>2.0</td>\n",
       "      <td>4</td>\n",
       "      <td>yes</td>\n",
       "      <td>yes</td>\n",
       "      <td>no</td>\n",
       "      <td>no</td>\n",
       "      <td>yes</td>\n",
       "      <td>1</td>\n",
       "      <td>furnished</td>\n",
       "    </tr>\n",
       "    <tr>\n",
       "      <th>71</th>\n",
       "      <td>6755000.0</td>\n",
       "      <td>6000.0</td>\n",
       "      <td>4.0</td>\n",
       "      <td>2.0</td>\n",
       "      <td>4</td>\n",
       "      <td>yes</td>\n",
       "      <td>no</td>\n",
       "      <td>no</td>\n",
       "      <td>no</td>\n",
       "      <td>yes</td>\n",
       "      <td>0</td>\n",
       "      <td>unfurnished</td>\n",
       "    </tr>\n",
       "    <tr>\n",
       "      <th>72</th>\n",
       "      <td>6720000.0</td>\n",
       "      <td>5020.0</td>\n",
       "      <td>3.0</td>\n",
       "      <td>1.0</td>\n",
       "      <td>4</td>\n",
       "      <td>yes</td>\n",
       "      <td>no</td>\n",
       "      <td>no</td>\n",
       "      <td>no</td>\n",
       "      <td>yes</td>\n",
       "      <td>0</td>\n",
       "      <td>unfurnished</td>\n",
       "    </tr>\n",
       "    <tr>\n",
       "      <th>73</th>\n",
       "      <td>6685000.0</td>\n",
       "      <td>6600.0</td>\n",
       "      <td>2.0</td>\n",
       "      <td>2.0</td>\n",
       "      <td>4</td>\n",
       "      <td>yes</td>\n",
       "      <td>no</td>\n",
       "      <td>yes</td>\n",
       "      <td>no</td>\n",
       "      <td>no</td>\n",
       "      <td>0</td>\n",
       "      <td>furnished</td>\n",
       "    </tr>\n",
       "    <tr>\n",
       "      <th>83</th>\n",
       "      <td>6580000.0</td>\n",
       "      <td>6000.0</td>\n",
       "      <td>3.0</td>\n",
       "      <td>2.0</td>\n",
       "      <td>4</td>\n",
       "      <td>yes</td>\n",
       "      <td>no</td>\n",
       "      <td>no</td>\n",
       "      <td>no</td>\n",
       "      <td>yes</td>\n",
       "      <td>0</td>\n",
       "      <td>semi-furnished</td>\n",
       "    </tr>\n",
       "    <tr>\n",
       "      <th>92</th>\n",
       "      <td>6405000.0</td>\n",
       "      <td>4800.0</td>\n",
       "      <td>3.0</td>\n",
       "      <td>2.0</td>\n",
       "      <td>4</td>\n",
       "      <td>yes</td>\n",
       "      <td>yes</td>\n",
       "      <td>no</td>\n",
       "      <td>no</td>\n",
       "      <td>yes</td>\n",
       "      <td>0</td>\n",
       "      <td>furnished</td>\n",
       "    </tr>\n",
       "    <tr>\n",
       "      <th>94</th>\n",
       "      <td>6300000.0</td>\n",
       "      <td>6000.0</td>\n",
       "      <td>4.0</td>\n",
       "      <td>2.0</td>\n",
       "      <td>4</td>\n",
       "      <td>yes</td>\n",
       "      <td>no</td>\n",
       "      <td>no</td>\n",
       "      <td>no</td>\n",
       "      <td>no</td>\n",
       "      <td>1</td>\n",
       "      <td>semi-furnished</td>\n",
       "    </tr>\n",
       "    <tr>\n",
       "      <th>102</th>\n",
       "      <td>6195000.0</td>\n",
       "      <td>5500.0</td>\n",
       "      <td>3.0</td>\n",
       "      <td>2.0</td>\n",
       "      <td>4</td>\n",
       "      <td>yes</td>\n",
       "      <td>yes</td>\n",
       "      <td>no</td>\n",
       "      <td>no</td>\n",
       "      <td>yes</td>\n",
       "      <td>1</td>\n",
       "      <td>semi-furnished</td>\n",
       "    </tr>\n",
       "    <tr>\n",
       "      <th>105</th>\n",
       "      <td>6160000.0</td>\n",
       "      <td>4500.0</td>\n",
       "      <td>3.0</td>\n",
       "      <td>1.0</td>\n",
       "      <td>4</td>\n",
       "      <td>yes</td>\n",
       "      <td>no</td>\n",
       "      <td>no</td>\n",
       "      <td>no</td>\n",
       "      <td>yes</td>\n",
       "      <td>0</td>\n",
       "      <td>unfurnished</td>\n",
       "    </tr>\n",
       "    <tr>\n",
       "      <th>124</th>\n",
       "      <td>5950000.0</td>\n",
       "      <td>6525.0</td>\n",
       "      <td>3.0</td>\n",
       "      <td>2.0</td>\n",
       "      <td>4</td>\n",
       "      <td>yes</td>\n",
       "      <td>no</td>\n",
       "      <td>no</td>\n",
       "      <td>no</td>\n",
       "      <td>no</td>\n",
       "      <td>1</td>\n",
       "      <td>furnished</td>\n",
       "    </tr>\n",
       "    <tr>\n",
       "      <th>131</th>\n",
       "      <td>5810000.0</td>\n",
       "      <td>5828.0</td>\n",
       "      <td>4.0</td>\n",
       "      <td>1.0</td>\n",
       "      <td>4</td>\n",
       "      <td>yes</td>\n",
       "      <td>yes</td>\n",
       "      <td>no</td>\n",
       "      <td>no</td>\n",
       "      <td>no</td>\n",
       "      <td>0</td>\n",
       "      <td>semi-furnished</td>\n",
       "    </tr>\n",
       "    <tr>\n",
       "      <th>135</th>\n",
       "      <td>5775000.0</td>\n",
       "      <td>6000.0</td>\n",
       "      <td>3.0</td>\n",
       "      <td>2.0</td>\n",
       "      <td>4</td>\n",
       "      <td>yes</td>\n",
       "      <td>no</td>\n",
       "      <td>no</td>\n",
       "      <td>no</td>\n",
       "      <td>yes</td>\n",
       "      <td>0</td>\n",
       "      <td>unfurnished</td>\n",
       "    </tr>\n",
       "    <tr>\n",
       "      <th>140</th>\n",
       "      <td>5740000.0</td>\n",
       "      <td>5800.0</td>\n",
       "      <td>3.0</td>\n",
       "      <td>2.0</td>\n",
       "      <td>4</td>\n",
       "      <td>yes</td>\n",
       "      <td>no</td>\n",
       "      <td>no</td>\n",
       "      <td>no</td>\n",
       "      <td>yes</td>\n",
       "      <td>0</td>\n",
       "      <td>unfurnished</td>\n",
       "    </tr>\n",
       "    <tr>\n",
       "      <th>145</th>\n",
       "      <td>5600000.0</td>\n",
       "      <td>5000.0</td>\n",
       "      <td>3.0</td>\n",
       "      <td>1.0</td>\n",
       "      <td>4</td>\n",
       "      <td>yes</td>\n",
       "      <td>no</td>\n",
       "      <td>no</td>\n",
       "      <td>no</td>\n",
       "      <td>no</td>\n",
       "      <td>0</td>\n",
       "      <td>furnished</td>\n",
       "    </tr>\n",
       "    <tr>\n",
       "      <th>160</th>\n",
       "      <td>5460000.0</td>\n",
       "      <td>6210.0</td>\n",
       "      <td>4.0</td>\n",
       "      <td>1.0</td>\n",
       "      <td>4</td>\n",
       "      <td>yes</td>\n",
       "      <td>yes</td>\n",
       "      <td>no</td>\n",
       "      <td>no</td>\n",
       "      <td>yes</td>\n",
       "      <td>0</td>\n",
       "      <td>furnished</td>\n",
       "    </tr>\n",
       "    <tr>\n",
       "      <th>220</th>\n",
       "      <td>4795000.0</td>\n",
       "      <td>8100.0</td>\n",
       "      <td>4.0</td>\n",
       "      <td>1.0</td>\n",
       "      <td>4</td>\n",
       "      <td>yes</td>\n",
       "      <td>no</td>\n",
       "      <td>yes</td>\n",
       "      <td>no</td>\n",
       "      <td>yes</td>\n",
       "      <td>2</td>\n",
       "      <td>semi-furnished</td>\n",
       "    </tr>\n",
       "    <tr>\n",
       "      <th>226</th>\n",
       "      <td>4690000.0</td>\n",
       "      <td>5170.0</td>\n",
       "      <td>3.0</td>\n",
       "      <td>1.0</td>\n",
       "      <td>4</td>\n",
       "      <td>yes</td>\n",
       "      <td>no</td>\n",
       "      <td>no</td>\n",
       "      <td>no</td>\n",
       "      <td>yes</td>\n",
       "      <td>0</td>\n",
       "      <td>semi-furnished</td>\n",
       "    </tr>\n",
       "    <tr>\n",
       "      <th>247</th>\n",
       "      <td>4550000.0</td>\n",
       "      <td>8400.0</td>\n",
       "      <td>4.0</td>\n",
       "      <td>1.0</td>\n",
       "      <td>4</td>\n",
       "      <td>yes</td>\n",
       "      <td>no</td>\n",
       "      <td>no</td>\n",
       "      <td>no</td>\n",
       "      <td>no</td>\n",
       "      <td>3</td>\n",
       "      <td>unfurnished</td>\n",
       "    </tr>\n",
       "  </tbody>\n",
       "</table>\n",
       "</div>"
      ],
      "text/plain": [
       "         price    area  bedrooms  bathrooms  stories mainroad guestroom  \\\n",
       "1    9205000.0  8960.0       4.0        3.5        4      yes        no   \n",
       "6    9205000.0  8580.0       4.0        3.0        4      yes        no   \n",
       "9    9205000.0  5750.0       3.0        2.0        4      yes       yes   \n",
       "17   8960000.0  8500.0       3.0        2.0        4      yes        no   \n",
       "26   8463000.0  6000.0       3.0        2.0        4      yes       yes   \n",
       "30   8400000.0  7475.0       3.0        2.0        4      yes        no   \n",
       "31   8400000.0  7000.0       3.0        1.0        4      yes        no   \n",
       "35   8080940.0  7000.0       3.0        2.0        4      yes        no   \n",
       "37   7980000.0  9000.0       4.0        2.0        4      yes        no   \n",
       "38   7962500.0  6000.0       3.0        1.0        4      yes       yes   \n",
       "39   7910000.0  6000.0       4.0        2.0        4      yes        no   \n",
       "41   7840000.0  6360.0       3.0        2.0        4      yes        no   \n",
       "42   7700000.0  6480.0       3.0        2.0        4      yes        no   \n",
       "43   7700000.0  6000.0       4.0        2.0        4      yes        no   \n",
       "44   7560000.0  6000.0       4.0        2.0        4      yes        no   \n",
       "46   7525000.0  6000.0       3.0        2.0        4      yes        no   \n",
       "47   7490000.0  6600.0       3.0        1.0        4      yes        no   \n",
       "50   7420000.0  7440.0       3.0        2.0        4      yes        no   \n",
       "51   7420000.0  6325.0       3.0        1.0        4      yes        no   \n",
       "52   7350000.0  6000.0       4.0        2.0        4      yes       yes   \n",
       "53   7350000.0  5150.0       3.0        2.0        4      yes        no   \n",
       "57   7245000.0  9000.0       4.0        2.0        4      yes       yes   \n",
       "58   7210000.0  7680.0       4.0        2.0        4      yes       yes   \n",
       "59   7210000.0  6000.0       3.0        2.0        4      yes       yes   \n",
       "71   6755000.0  6000.0       4.0        2.0        4      yes        no   \n",
       "72   6720000.0  5020.0       3.0        1.0        4      yes        no   \n",
       "73   6685000.0  6600.0       2.0        2.0        4      yes        no   \n",
       "83   6580000.0  6000.0       3.0        2.0        4      yes        no   \n",
       "92   6405000.0  4800.0       3.0        2.0        4      yes       yes   \n",
       "94   6300000.0  6000.0       4.0        2.0        4      yes        no   \n",
       "102  6195000.0  5500.0       3.0        2.0        4      yes       yes   \n",
       "105  6160000.0  4500.0       3.0        1.0        4      yes        no   \n",
       "124  5950000.0  6525.0       3.0        2.0        4      yes        no   \n",
       "131  5810000.0  5828.0       4.0        1.0        4      yes       yes   \n",
       "135  5775000.0  6000.0       3.0        2.0        4      yes        no   \n",
       "140  5740000.0  5800.0       3.0        2.0        4      yes        no   \n",
       "145  5600000.0  5000.0       3.0        1.0        4      yes        no   \n",
       "160  5460000.0  6210.0       4.0        1.0        4      yes       yes   \n",
       "220  4795000.0  8100.0       4.0        1.0        4      yes        no   \n",
       "226  4690000.0  5170.0       3.0        1.0        4      yes        no   \n",
       "247  4550000.0  8400.0       4.0        1.0        4      yes        no   \n",
       "\n",
       "    basement hotwaterheating airconditioning  parking furnishingstatus  \n",
       "1         no              no             yes        3        furnished  \n",
       "6         no              no             yes        2   semi-furnished  \n",
       "9         no              no             yes        1      unfurnished  \n",
       "17        no              no             yes        2        furnished  \n",
       "26       yes              no             yes        0   semi-furnished  \n",
       "30        no              no             yes        2      unfurnished  \n",
       "31        no              no             yes        2   semi-furnished  \n",
       "35        no              no             yes        2        furnished  \n",
       "37        no              no             yes        2        furnished  \n",
       "38        no              no             yes        2      unfurnished  \n",
       "39        no              no             yes        1   semi-furnished  \n",
       "41        no              no             yes        0        furnished  \n",
       "42        no              no             yes        2      unfurnished  \n",
       "43        no              no              no        2   semi-furnished  \n",
       "44        no              no             yes        1        furnished  \n",
       "46        no              no             yes        1        furnished  \n",
       "47        no              no             yes        3        furnished  \n",
       "50        no              no              no        1      unfurnished  \n",
       "51        no              no             yes        1      unfurnished  \n",
       "52        no              no             yes        1        furnished  \n",
       "53        no              no             yes        2   semi-furnished  \n",
       "57        no              no             yes        1        furnished  \n",
       "58        no              no             yes        1   semi-furnished  \n",
       "59        no              no             yes        1        furnished  \n",
       "71        no              no             yes        0      unfurnished  \n",
       "72        no              no             yes        0      unfurnished  \n",
       "73       yes              no              no        0        furnished  \n",
       "83        no              no             yes        0   semi-furnished  \n",
       "92        no              no             yes        0        furnished  \n",
       "94        no              no              no        1   semi-furnished  \n",
       "102       no              no             yes        1   semi-furnished  \n",
       "105       no              no             yes        0      unfurnished  \n",
       "124       no              no              no        1        furnished  \n",
       "131       no              no              no        0   semi-furnished  \n",
       "135       no              no             yes        0      unfurnished  \n",
       "140       no              no             yes        0      unfurnished  \n",
       "145       no              no              no        0        furnished  \n",
       "160       no              no             yes        0        furnished  \n",
       "220      yes              no             yes        2   semi-furnished  \n",
       "226       no              no             yes        0   semi-furnished  \n",
       "247       no              no              no        3      unfurnished  "
      ]
     },
     "execution_count": 36,
     "metadata": {},
     "output_type": "execute_result"
    }
   ],
   "source": [
    "Q1_stories=df['stories'].quantile(0.25)\n",
    "Q3_stories=df['stories'].quantile(0.75)\n",
    "IQR_stories=Q3_stories-Q1_stories\n",
    "lower_bound=Q1_stories-1.5*IQR_stories\n",
    "upper_bound=Q3_stories+1.5*IQR_stories\n",
    "outliers_stories=df[(df['stories']<lower_bound) | (df['stories']>upper_bound)]\n",
    "\n",
    "outliers_stories"
   ]
  },
  {
   "cell_type": "code",
   "execution_count": 37,
   "id": "74a1044e",
   "metadata": {},
   "outputs": [
    {
     "name": "stderr",
     "output_type": "stream",
     "text": [
      "C:\\Users\\hp\\anaconda3\\lib\\site-packages\\seaborn\\_decorators.py:36: FutureWarning: Pass the following variable as a keyword arg: x. From version 0.12, the only valid positional argument will be `data`, and passing other arguments without an explicit keyword will result in an error or misinterpretation.\n",
      "  warnings.warn(\n"
     ]
    },
    {
     "data": {
      "text/plain": [
       "<AxesSubplot:xlabel='stories'>"
      ]
     },
     "execution_count": 37,
     "metadata": {},
     "output_type": "execute_result"
    },
    {
     "data": {
      "image/png": "[encoded data removed]",
      "text/plain": [
       "<Figure size 432x288 with 1 Axes>"
      ]
     },
     "metadata": {
      "needs_background": "light"
     },
     "output_type": "display_data"
    }
   ],
   "source": [
    "df['stories']=np.where((df['stories']<lower_bound), lower_bound, df['stories'])\n",
    "df['stories']=np.where((df['stories']>upper_bound), upper_bound, df['stories'])\n",
    "\n",
    "sns.boxplot(df['stories']) #After replacing the outliers"
   ]
  },
  {
   "cell_type": "markdown",
   "id": "2ea773f1",
   "metadata": {},
   "source": [
    "### Parking"
   ]
  },
  {
   "cell_type": "code",
   "execution_count": 38,
   "id": "4e501867",
   "metadata": {},
   "outputs": [
    {
     "name": "stderr",
     "output_type": "stream",
     "text": [
      "C:\\Users\\hp\\anaconda3\\lib\\site-packages\\seaborn\\_decorators.py:36: FutureWarning: Pass the following variable as a keyword arg: x. From version 0.12, the only valid positional argument will be `data`, and passing other arguments without an explicit keyword will result in an error or misinterpretation.\n",
      "  warnings.warn(\n"
     ]
    },
    {
     "data": {
      "text/plain": [
       "<AxesSubplot:xlabel='parking'>"
      ]
     },
     "execution_count": 38,
     "metadata": {},
     "output_type": "execute_result"
    },
    {
     "data": {
      "image/png": "[encoded data removed]",
      "text/plain": [
       "<Figure size 432x288 with 1 Axes>"
      ]
     },
     "metadata": {
      "needs_background": "light"
     },
     "output_type": "display_data"
    }
   ],
   "source": [
    "sns.boxplot(df['parking'])"
   ]
  },
  {
   "cell_type": "code",
   "execution_count": 39,
   "id": "7ba120aa",
   "metadata": {},
   "outputs": [
    {
     "data": {
      "text/html": [
       "<div>\n",
       "<style scoped>\n",
       "    .dataframe tbody tr th:only-of-type {\n",
       "        vertical-align: middle;\n",
       "    }\n",
       "\n",
       "    .dataframe tbody tr th {\n",
       "        vertical-align: top;\n",
       "    }\n",
       "\n",
       "    .dataframe thead th {\n",
       "        text-align: right;\n",
       "    }\n",
       "</style>\n",
       "<table border=\"1\" class=\"dataframe\">\n",
       "  <thead>\n",
       "    <tr style=\"text-align: right;\">\n",
       "      <th></th>\n",
       "      <th>price</th>\n",
       "      <th>area</th>\n",
       "      <th>bedrooms</th>\n",
       "      <th>bathrooms</th>\n",
       "      <th>stories</th>\n",
       "      <th>mainroad</th>\n",
       "      <th>guestroom</th>\n",
       "      <th>basement</th>\n",
       "      <th>hotwaterheating</th>\n",
       "      <th>airconditioning</th>\n",
       "      <th>parking</th>\n",
       "      <th>furnishingstatus</th>\n",
       "    </tr>\n",
       "  </thead>\n",
       "  <tbody>\n",
       "    <tr>\n",
       "      <th>1</th>\n",
       "      <td>9205000.0</td>\n",
       "      <td>8960.0</td>\n",
       "      <td>4.0</td>\n",
       "      <td>3.5</td>\n",
       "      <td>3.5</td>\n",
       "      <td>yes</td>\n",
       "      <td>no</td>\n",
       "      <td>no</td>\n",
       "      <td>no</td>\n",
       "      <td>yes</td>\n",
       "      <td>3</td>\n",
       "      <td>furnished</td>\n",
       "    </tr>\n",
       "    <tr>\n",
       "      <th>3</th>\n",
       "      <td>9205000.0</td>\n",
       "      <td>7500.0</td>\n",
       "      <td>4.0</td>\n",
       "      <td>2.0</td>\n",
       "      <td>2.0</td>\n",
       "      <td>yes</td>\n",
       "      <td>no</td>\n",
       "      <td>yes</td>\n",
       "      <td>no</td>\n",
       "      <td>yes</td>\n",
       "      <td>3</td>\n",
       "      <td>furnished</td>\n",
       "    </tr>\n",
       "    <tr>\n",
       "      <th>47</th>\n",
       "      <td>7490000.0</td>\n",
       "      <td>6600.0</td>\n",
       "      <td>3.0</td>\n",
       "      <td>1.0</td>\n",
       "      <td>3.5</td>\n",
       "      <td>yes</td>\n",
       "      <td>no</td>\n",
       "      <td>no</td>\n",
       "      <td>no</td>\n",
       "      <td>yes</td>\n",
       "      <td>3</td>\n",
       "      <td>furnished</td>\n",
       "    </tr>\n",
       "    <tr>\n",
       "      <th>93</th>\n",
       "      <td>6300000.0</td>\n",
       "      <td>7200.0</td>\n",
       "      <td>3.0</td>\n",
       "      <td>2.0</td>\n",
       "      <td>1.0</td>\n",
       "      <td>yes</td>\n",
       "      <td>no</td>\n",
       "      <td>yes</td>\n",
       "      <td>no</td>\n",
       "      <td>yes</td>\n",
       "      <td>3</td>\n",
       "      <td>semi-furnished</td>\n",
       "    </tr>\n",
       "    <tr>\n",
       "      <th>225</th>\n",
       "      <td>4753000.0</td>\n",
       "      <td>6440.0</td>\n",
       "      <td>2.0</td>\n",
       "      <td>1.0</td>\n",
       "      <td>1.0</td>\n",
       "      <td>yes</td>\n",
       "      <td>no</td>\n",
       "      <td>no</td>\n",
       "      <td>no</td>\n",
       "      <td>yes</td>\n",
       "      <td>3</td>\n",
       "      <td>semi-furnished</td>\n",
       "    </tr>\n",
       "    <tr>\n",
       "      <th>247</th>\n",
       "      <td>4550000.0</td>\n",
       "      <td>8400.0</td>\n",
       "      <td>4.0</td>\n",
       "      <td>1.0</td>\n",
       "      <td>3.5</td>\n",
       "      <td>yes</td>\n",
       "      <td>no</td>\n",
       "      <td>no</td>\n",
       "      <td>no</td>\n",
       "      <td>no</td>\n",
       "      <td>3</td>\n",
       "      <td>unfurnished</td>\n",
       "    </tr>\n",
       "    <tr>\n",
       "      <th>299</th>\n",
       "      <td>4200000.0</td>\n",
       "      <td>7000.0</td>\n",
       "      <td>3.0</td>\n",
       "      <td>1.0</td>\n",
       "      <td>1.0</td>\n",
       "      <td>yes</td>\n",
       "      <td>no</td>\n",
       "      <td>no</td>\n",
       "      <td>no</td>\n",
       "      <td>no</td>\n",
       "      <td>3</td>\n",
       "      <td>furnished</td>\n",
       "    </tr>\n",
       "    <tr>\n",
       "      <th>304</th>\n",
       "      <td>4193000.0</td>\n",
       "      <td>8250.0</td>\n",
       "      <td>3.0</td>\n",
       "      <td>1.0</td>\n",
       "      <td>1.0</td>\n",
       "      <td>yes</td>\n",
       "      <td>no</td>\n",
       "      <td>yes</td>\n",
       "      <td>no</td>\n",
       "      <td>no</td>\n",
       "      <td>3</td>\n",
       "      <td>semi-furnished</td>\n",
       "    </tr>\n",
       "    <tr>\n",
       "      <th>323</th>\n",
       "      <td>4025000.0</td>\n",
       "      <td>5400.0</td>\n",
       "      <td>3.0</td>\n",
       "      <td>1.0</td>\n",
       "      <td>1.0</td>\n",
       "      <td>yes</td>\n",
       "      <td>no</td>\n",
       "      <td>no</td>\n",
       "      <td>no</td>\n",
       "      <td>no</td>\n",
       "      <td>3</td>\n",
       "      <td>semi-furnished</td>\n",
       "    </tr>\n",
       "    <tr>\n",
       "      <th>331</th>\n",
       "      <td>3920000.0</td>\n",
       "      <td>7260.0</td>\n",
       "      <td>3.0</td>\n",
       "      <td>2.0</td>\n",
       "      <td>1.0</td>\n",
       "      <td>yes</td>\n",
       "      <td>yes</td>\n",
       "      <td>yes</td>\n",
       "      <td>no</td>\n",
       "      <td>no</td>\n",
       "      <td>3</td>\n",
       "      <td>furnished</td>\n",
       "    </tr>\n",
       "    <tr>\n",
       "      <th>401</th>\n",
       "      <td>3500000.0</td>\n",
       "      <td>9500.0</td>\n",
       "      <td>3.0</td>\n",
       "      <td>1.0</td>\n",
       "      <td>2.0</td>\n",
       "      <td>yes</td>\n",
       "      <td>no</td>\n",
       "      <td>no</td>\n",
       "      <td>no</td>\n",
       "      <td>no</td>\n",
       "      <td>3</td>\n",
       "      <td>unfurnished</td>\n",
       "    </tr>\n",
       "    <tr>\n",
       "      <th>472</th>\n",
       "      <td>3010000.0</td>\n",
       "      <td>3630.0</td>\n",
       "      <td>4.0</td>\n",
       "      <td>1.0</td>\n",
       "      <td>2.0</td>\n",
       "      <td>yes</td>\n",
       "      <td>no</td>\n",
       "      <td>no</td>\n",
       "      <td>no</td>\n",
       "      <td>no</td>\n",
       "      <td>3</td>\n",
       "      <td>semi-furnished</td>\n",
       "    </tr>\n",
       "  </tbody>\n",
       "</table>\n",
       "</div>"
      ],
      "text/plain": [
       "         price    area  bedrooms  bathrooms  stories mainroad guestroom  \\\n",
       "1    9205000.0  8960.0       4.0        3.5      3.5      yes        no   \n",
       "3    9205000.0  7500.0       4.0        2.0      2.0      yes        no   \n",
       "47   7490000.0  6600.0       3.0        1.0      3.5      yes        no   \n",
       "93   6300000.0  7200.0       3.0        2.0      1.0      yes        no   \n",
       "225  4753000.0  6440.0       2.0        1.0      1.0      yes        no   \n",
       "247  4550000.0  8400.0       4.0        1.0      3.5      yes        no   \n",
       "299  4200000.0  7000.0       3.0        1.0      1.0      yes        no   \n",
       "304  4193000.0  8250.0       3.0        1.0      1.0      yes        no   \n",
       "323  4025000.0  5400.0       3.0        1.0      1.0      yes        no   \n",
       "331  3920000.0  7260.0       3.0        2.0      1.0      yes       yes   \n",
       "401  3500000.0  9500.0       3.0        1.0      2.0      yes        no   \n",
       "472  3010000.0  3630.0       4.0        1.0      2.0      yes        no   \n",
       "\n",
       "    basement hotwaterheating airconditioning  parking furnishingstatus  \n",
       "1         no              no             yes        3        furnished  \n",
       "3        yes              no             yes        3        furnished  \n",
       "47        no              no             yes        3        furnished  \n",
       "93       yes              no             yes        3   semi-furnished  \n",
       "225       no              no             yes        3   semi-furnished  \n",
       "247       no              no              no        3      unfurnished  \n",
       "299       no              no              no        3        furnished  \n",
       "304      yes              no              no        3   semi-furnished  \n",
       "323       no              no              no        3   semi-furnished  \n",
       "331      yes              no              no        3        furnished  \n",
       "401       no              no              no        3      unfurnished  \n",
       "472       no              no              no        3   semi-furnished  "
      ]
     },
     "execution_count": 39,
     "metadata": {},
     "output_type": "execute_result"
    }
   ],
   "source": [
    "Q1_parking=df['parking'].quantile(0.25)\n",
    "Q3_parking=df['parking'].quantile(0.75)\n",
    "IQR_parking=Q3_parking-Q1_parking\n",
    "lower_bound=Q1_parking-1.5*IQR_parking\n",
    "upper_bound=Q3_parking+1.5*IQR_parking\n",
    "outliers_parking=df[(df['parking']<lower_bound) | (df['parking']>upper_bound)]\n",
    "\n",
    "outliers_parking"
   ]
  },
  {
   "cell_type": "code",
   "execution_count": 40,
   "id": "ca6d8f83",
   "metadata": {},
   "outputs": [
    {
     "name": "stderr",
     "output_type": "stream",
     "text": [
      "C:\\Users\\hp\\anaconda3\\lib\\site-packages\\seaborn\\_decorators.py:36: FutureWarning: Pass the following variable as a keyword arg: x. From version 0.12, the only valid positional argument will be `data`, and passing other arguments without an explicit keyword will result in an error or misinterpretation.\n",
      "  warnings.warn(\n"
     ]
    },
    {
     "data": {
      "text/plain": [
       "<AxesSubplot:xlabel='parking'>"
      ]
     },
     "execution_count": 40,
     "metadata": {},
     "output_type": "execute_result"
    },
    {
     "data": {
      "image/png": "[encoded data removed]",
      "text/plain": [
       "<Figure size 432x288 with 1 Axes>"
      ]
     },
     "metadata": {
      "needs_background": "light"
     },
     "output_type": "display_data"
    }
   ],
   "source": [
    "df['parking']=np.where((df['parking']<lower_bound), lower_bound, df['parking'])\n",
    "df['parking']=np.where((df['parking']>upper_bound), upper_bound, df['parking'])\n",
    "\n",
    "sns.boxplot(df['parking']) #After replacing the outliers"
   ]
  },
  {
   "cell_type": "markdown",
   "id": "ee50f5df",
   "metadata": {},
   "source": [
    "### 7. Check for Categorical columns and perform encoding."
   ]
  },
  {
   "cell_type": "code",
   "execution_count": 41,
   "id": "d2bd94c9",
   "metadata": {},
   "outputs": [],
   "source": [
    "from sklearn.preprocessing import LabelEncoder"
   ]
  },
  {
   "cell_type": "code",
   "execution_count": 42,
   "id": "31515333",
   "metadata": {
    "scrolled": true
   },
   "outputs": [
    {
     "name": "stdout",
     "output_type": "stream",
     "text": [
      "<class 'pandas.core.frame.DataFrame'>\n",
      "RangeIndex: 545 entries, 0 to 544\n",
      "Data columns (total 12 columns):\n",
      " #   Column            Non-Null Count  Dtype  \n",
      "---  ------            --------------  -----  \n",
      " 0   price             545 non-null    float64\n",
      " 1   area              545 non-null    float64\n",
      " 2   bedrooms          545 non-null    float64\n",
      " 3   bathrooms         545 non-null    float64\n",
      " 4   stories           545 non-null    float64\n",
      " 5   mainroad          545 non-null    object \n",
      " 6   guestroom         545 non-null    object \n",
      " 7   basement          545 non-null    object \n",
      " 8   hotwaterheating   545 non-null    object \n",
      " 9   airconditioning   545 non-null    object \n",
      " 10  parking           545 non-null    float64\n",
      " 11  furnishingstatus  545 non-null    object \n",
      "dtypes: float64(6), object(6)\n",
      "memory usage: 51.2+ KB\n"
     ]
    }
   ],
   "source": [
    "df.info() #dtype='object' means the column is a categorical column"
   ]
  },
  {
   "cell_type": "code",
   "execution_count": 43,
   "id": "97caf02c",
   "metadata": {
    "scrolled": true
   },
   "outputs": [],
   "source": [
    "#Label Encoding\n",
    "LE=LabelEncoder()\n",
    "df.mainroad=LE.fit_transform(df.mainroad)\n",
    "df.guestroom=LE.fit_transform(df.guestroom)\n",
    "df.basement=LE.fit_transform(df.basement)\n",
    "df.hotwaterheating=LE.fit_transform(df.hotwaterheating)\n",
    "df.airconditioning=LE.fit_transform(df.airconditioning)"
   ]
  },
  {
   "cell_type": "code",
   "execution_count": 44,
   "id": "6f69ff3b",
   "metadata": {},
   "outputs": [
    {
     "data": {
      "text/html": [
       "<div>\n",
       "<style scoped>\n",
       "    .dataframe tbody tr th:only-of-type {\n",
       "        vertical-align: middle;\n",
       "    }\n",
       "\n",
       "    .dataframe tbody tr th {\n",
       "        vertical-align: top;\n",
       "    }\n",
       "\n",
       "    .dataframe thead th {\n",
       "        text-align: right;\n",
       "    }\n",
       "</style>\n",
       "<table border=\"1\" class=\"dataframe\">\n",
       "  <thead>\n",
       "    <tr style=\"text-align: right;\">\n",
       "      <th></th>\n",
       "      <th>price</th>\n",
       "      <th>area</th>\n",
       "      <th>bedrooms</th>\n",
       "      <th>bathrooms</th>\n",
       "      <th>stories</th>\n",
       "      <th>mainroad</th>\n",
       "      <th>guestroom</th>\n",
       "      <th>basement</th>\n",
       "      <th>hotwaterheating</th>\n",
       "      <th>airconditioning</th>\n",
       "      <th>parking</th>\n",
       "      <th>furnishingstatus_furnished</th>\n",
       "      <th>furnishingstatus_semi-furnished</th>\n",
       "      <th>furnishingstatus_unfurnished</th>\n",
       "    </tr>\n",
       "  </thead>\n",
       "  <tbody>\n",
       "    <tr>\n",
       "      <th>0</th>\n",
       "      <td>9205000.0</td>\n",
       "      <td>7420.0</td>\n",
       "      <td>4.0</td>\n",
       "      <td>2.0</td>\n",
       "      <td>3.0</td>\n",
       "      <td>1</td>\n",
       "      <td>0</td>\n",
       "      <td>0</td>\n",
       "      <td>0</td>\n",
       "      <td>1</td>\n",
       "      <td>2.0</td>\n",
       "      <td>1</td>\n",
       "      <td>0</td>\n",
       "      <td>0</td>\n",
       "    </tr>\n",
       "    <tr>\n",
       "      <th>1</th>\n",
       "      <td>9205000.0</td>\n",
       "      <td>8960.0</td>\n",
       "      <td>4.0</td>\n",
       "      <td>3.5</td>\n",
       "      <td>3.5</td>\n",
       "      <td>1</td>\n",
       "      <td>0</td>\n",
       "      <td>0</td>\n",
       "      <td>0</td>\n",
       "      <td>1</td>\n",
       "      <td>2.5</td>\n",
       "      <td>1</td>\n",
       "      <td>0</td>\n",
       "      <td>0</td>\n",
       "    </tr>\n",
       "    <tr>\n",
       "      <th>2</th>\n",
       "      <td>9205000.0</td>\n",
       "      <td>9960.0</td>\n",
       "      <td>3.0</td>\n",
       "      <td>2.0</td>\n",
       "      <td>2.0</td>\n",
       "      <td>1</td>\n",
       "      <td>0</td>\n",
       "      <td>1</td>\n",
       "      <td>0</td>\n",
       "      <td>0</td>\n",
       "      <td>2.0</td>\n",
       "      <td>0</td>\n",
       "      <td>1</td>\n",
       "      <td>0</td>\n",
       "    </tr>\n",
       "    <tr>\n",
       "      <th>3</th>\n",
       "      <td>9205000.0</td>\n",
       "      <td>7500.0</td>\n",
       "      <td>4.0</td>\n",
       "      <td>2.0</td>\n",
       "      <td>2.0</td>\n",
       "      <td>1</td>\n",
       "      <td>0</td>\n",
       "      <td>1</td>\n",
       "      <td>0</td>\n",
       "      <td>1</td>\n",
       "      <td>2.5</td>\n",
       "      <td>1</td>\n",
       "      <td>0</td>\n",
       "      <td>0</td>\n",
       "    </tr>\n",
       "    <tr>\n",
       "      <th>4</th>\n",
       "      <td>9205000.0</td>\n",
       "      <td>7420.0</td>\n",
       "      <td>4.0</td>\n",
       "      <td>1.0</td>\n",
       "      <td>2.0</td>\n",
       "      <td>1</td>\n",
       "      <td>1</td>\n",
       "      <td>1</td>\n",
       "      <td>0</td>\n",
       "      <td>1</td>\n",
       "      <td>2.0</td>\n",
       "      <td>1</td>\n",
       "      <td>0</td>\n",
       "      <td>0</td>\n",
       "    </tr>\n",
       "  </tbody>\n",
       "</table>\n",
       "</div>"
      ],
      "text/plain": [
       "       price    area  bedrooms  bathrooms  stories  mainroad  guestroom  \\\n",
       "0  9205000.0  7420.0       4.0        2.0      3.0         1          0   \n",
       "1  9205000.0  8960.0       4.0        3.5      3.5         1          0   \n",
       "2  9205000.0  9960.0       3.0        2.0      2.0         1          0   \n",
       "3  9205000.0  7500.0       4.0        2.0      2.0         1          0   \n",
       "4  9205000.0  7420.0       4.0        1.0      2.0         1          1   \n",
       "\n",
       "   basement  hotwaterheating  airconditioning  parking  \\\n",
       "0         0                0                1      2.0   \n",
       "1         0                0                1      2.5   \n",
       "2         1                0                0      2.0   \n",
       "3         1                0                1      2.5   \n",
       "4         1                0                1      2.0   \n",
       "\n",
       "   furnishingstatus_furnished  furnishingstatus_semi-furnished  \\\n",
       "0                           1                                0   \n",
       "1                           1                                0   \n",
       "2                           0                                1   \n",
       "3                           1                                0   \n",
       "4                           1                                0   \n",
       "\n",
       "   furnishingstatus_unfurnished  \n",
       "0                             0  \n",
       "1                             0  \n",
       "2                             0  \n",
       "3                             0  \n",
       "4                             0  "
      ]
     },
     "execution_count": 44,
     "metadata": {},
     "output_type": "execute_result"
    }
   ],
   "source": [
    "#One Hot Encoding\n",
    "df=pd.get_dummies(df,columns=['furnishingstatus'])\n",
    "df.head()"
   ]
  },
  {
   "cell_type": "code",
   "execution_count": 45,
   "id": "f99aebda",
   "metadata": {},
   "outputs": [
    {
     "name": "stdout",
     "output_type": "stream",
     "text": [
      "<class 'pandas.core.frame.DataFrame'>\n",
      "RangeIndex: 545 entries, 0 to 544\n",
      "Data columns (total 14 columns):\n",
      " #   Column                           Non-Null Count  Dtype  \n",
      "---  ------                           --------------  -----  \n",
      " 0   price                            545 non-null    float64\n",
      " 1   area                             545 non-null    float64\n",
      " 2   bedrooms                         545 non-null    float64\n",
      " 3   bathrooms                        545 non-null    float64\n",
      " 4   stories                          545 non-null    float64\n",
      " 5   mainroad                         545 non-null    int32  \n",
      " 6   guestroom                        545 non-null    int32  \n",
      " 7   basement                         545 non-null    int32  \n",
      " 8   hotwaterheating                  545 non-null    int32  \n",
      " 9   airconditioning                  545 non-null    int32  \n",
      " 10  parking                          545 non-null    float64\n",
      " 11  furnishingstatus_furnished       545 non-null    uint8  \n",
      " 12  furnishingstatus_semi-furnished  545 non-null    uint8  \n",
      " 13  furnishingstatus_unfurnished     545 non-null    uint8  \n",
      "dtypes: float64(6), int32(5), uint8(3)\n",
      "memory usage: 37.9 KB\n"
     ]
    }
   ],
   "source": [
    "df.info()"
   ]
  },
  {
   "cell_type": "markdown",
   "id": "c89fa543",
   "metadata": {},
   "source": [
    "### 8. Split the data into dependent and independent variables."
   ]
  },
  {
   "cell_type": "code",
   "execution_count": 46,
   "id": "11602765",
   "metadata": {},
   "outputs": [
    {
     "data": {
      "text/plain": [
       "0    9205000.0\n",
       "1    9205000.0\n",
       "2    9205000.0\n",
       "3    9205000.0\n",
       "4    9205000.0\n",
       "Name: price, dtype: float64"
      ]
     },
     "execution_count": 46,
     "metadata": {},
     "output_type": "execute_result"
    }
   ],
   "source": [
    "#Y - price (the dependent variable - target)\n",
    "y=df['price']\n",
    "y.head()"
   ]
  },
  {
   "cell_type": "code",
   "execution_count": 47,
   "id": "2ea117ac",
   "metadata": {},
   "outputs": [
    {
     "data": {
      "text/html": [
       "<div>\n",
       "<style scoped>\n",
       "    .dataframe tbody tr th:only-of-type {\n",
       "        vertical-align: middle;\n",
       "    }\n",
       "\n",
       "    .dataframe tbody tr th {\n",
       "        vertical-align: top;\n",
       "    }\n",
       "\n",
       "    .dataframe thead th {\n",
       "        text-align: right;\n",
       "    }\n",
       "</style>\n",
       "<table border=\"1\" class=\"dataframe\">\n",
       "  <thead>\n",
       "    <tr style=\"text-align: right;\">\n",
       "      <th></th>\n",
       "      <th>area</th>\n",
       "      <th>bedrooms</th>\n",
       "      <th>bathrooms</th>\n",
       "      <th>stories</th>\n",
       "      <th>mainroad</th>\n",
       "      <th>guestroom</th>\n",
       "      <th>basement</th>\n",
       "      <th>hotwaterheating</th>\n",
       "      <th>airconditioning</th>\n",
       "      <th>parking</th>\n",
       "      <th>furnishingstatus_furnished</th>\n",
       "      <th>furnishingstatus_semi-furnished</th>\n",
       "      <th>furnishingstatus_unfurnished</th>\n",
       "    </tr>\n",
       "  </thead>\n",
       "  <tbody>\n",
       "    <tr>\n",
       "      <th>0</th>\n",
       "      <td>7420.0</td>\n",
       "      <td>4.0</td>\n",
       "      <td>2.0</td>\n",
       "      <td>3.0</td>\n",
       "      <td>1</td>\n",
       "      <td>0</td>\n",
       "      <td>0</td>\n",
       "      <td>0</td>\n",
       "      <td>1</td>\n",
       "      <td>2.0</td>\n",
       "      <td>1</td>\n",
       "      <td>0</td>\n",
       "      <td>0</td>\n",
       "    </tr>\n",
       "    <tr>\n",
       "      <th>1</th>\n",
       "      <td>8960.0</td>\n",
       "      <td>4.0</td>\n",
       "      <td>3.5</td>\n",
       "      <td>3.5</td>\n",
       "      <td>1</td>\n",
       "      <td>0</td>\n",
       "      <td>0</td>\n",
       "      <td>0</td>\n",
       "      <td>1</td>\n",
       "      <td>2.5</td>\n",
       "      <td>1</td>\n",
       "      <td>0</td>\n",
       "      <td>0</td>\n",
       "    </tr>\n",
       "    <tr>\n",
       "      <th>2</th>\n",
       "      <td>9960.0</td>\n",
       "      <td>3.0</td>\n",
       "      <td>2.0</td>\n",
       "      <td>2.0</td>\n",
       "      <td>1</td>\n",
       "      <td>0</td>\n",
       "      <td>1</td>\n",
       "      <td>0</td>\n",
       "      <td>0</td>\n",
       "      <td>2.0</td>\n",
       "      <td>0</td>\n",
       "      <td>1</td>\n",
       "      <td>0</td>\n",
       "    </tr>\n",
       "    <tr>\n",
       "      <th>3</th>\n",
       "      <td>7500.0</td>\n",
       "      <td>4.0</td>\n",
       "      <td>2.0</td>\n",
       "      <td>2.0</td>\n",
       "      <td>1</td>\n",
       "      <td>0</td>\n",
       "      <td>1</td>\n",
       "      <td>0</td>\n",
       "      <td>1</td>\n",
       "      <td>2.5</td>\n",
       "      <td>1</td>\n",
       "      <td>0</td>\n",
       "      <td>0</td>\n",
       "    </tr>\n",
       "    <tr>\n",
       "      <th>4</th>\n",
       "      <td>7420.0</td>\n",
       "      <td>4.0</td>\n",
       "      <td>1.0</td>\n",
       "      <td>2.0</td>\n",
       "      <td>1</td>\n",
       "      <td>1</td>\n",
       "      <td>1</td>\n",
       "      <td>0</td>\n",
       "      <td>1</td>\n",
       "      <td>2.0</td>\n",
       "      <td>1</td>\n",
       "      <td>0</td>\n",
       "      <td>0</td>\n",
       "    </tr>\n",
       "  </tbody>\n",
       "</table>\n",
       "</div>"
      ],
      "text/plain": [
       "     area  bedrooms  bathrooms  stories  mainroad  guestroom  basement  \\\n",
       "0  7420.0       4.0        2.0      3.0         1          0         0   \n",
       "1  8960.0       4.0        3.5      3.5         1          0         0   \n",
       "2  9960.0       3.0        2.0      2.0         1          0         1   \n",
       "3  7500.0       4.0        2.0      2.0         1          0         1   \n",
       "4  7420.0       4.0        1.0      2.0         1          1         1   \n",
       "\n",
       "   hotwaterheating  airconditioning  parking  furnishingstatus_furnished  \\\n",
       "0                0                1      2.0                           1   \n",
       "1                0                1      2.5                           1   \n",
       "2                0                0      2.0                           0   \n",
       "3                0                1      2.5                           1   \n",
       "4                0                1      2.0                           1   \n",
       "\n",
       "   furnishingstatus_semi-furnished  furnishingstatus_unfurnished  \n",
       "0                                0                             0  \n",
       "1                                0                             0  \n",
       "2                                1                             0  \n",
       "3                                0                             0  \n",
       "4                                0                             0  "
      ]
     },
     "execution_count": 47,
     "metadata": {},
     "output_type": "execute_result"
    }
   ],
   "source": [
    "#X - other columns except price (the independent variables - predictors)\n",
    "x=df.drop(columns=['price'],axis=1)\n",
    "x.head()"
   ]
  },
  {
   "cell_type": "markdown",
   "id": "0f527371",
   "metadata": {},
   "source": [
    "### 9. Scale the independent variables"
   ]
  },
  {
   "cell_type": "code",
   "execution_count": 48,
   "id": "5b0b62f8",
   "metadata": {},
   "outputs": [],
   "source": [
    "from sklearn.preprocessing import MinMaxScaler"
   ]
  },
  {
   "cell_type": "code",
   "execution_count": 49,
   "id": "4b802578",
   "metadata": {},
   "outputs": [
    {
     "data": {
      "text/plain": [
       "Index(['area', 'bedrooms', 'bathrooms', 'stories', 'mainroad', 'guestroom',\n",
       "       'basement', 'hotwaterheating', 'airconditioning', 'parking',\n",
       "       'furnishingstatus_furnished', 'furnishingstatus_semi-furnished',\n",
       "       'furnishingstatus_unfurnished'],\n",
       "      dtype='object')"
      ]
     },
     "execution_count": 49,
     "metadata": {},
     "output_type": "execute_result"
    }
   ],
   "source": [
    "names=x.columns\n",
    "names"
   ]
  },
  {
   "cell_type": "code",
   "execution_count": 50,
   "id": "6d6cd6da",
   "metadata": {},
   "outputs": [
    {
     "data": {
      "text/plain": [
       "array([[0.6519774 , 0.85714286, 0.4       , ..., 1.        , 0.        ,\n",
       "        0.        ],\n",
       "       [0.8259887 , 0.85714286, 1.        , ..., 1.        , 0.        ,\n",
       "        0.        ],\n",
       "       [0.93898305, 0.57142857, 0.4       , ..., 0.        , 1.        ,\n",
       "        0.        ],\n",
       "       ...,\n",
       "       [0.22259887, 0.28571429, 0.        , ..., 0.        , 0.        ,\n",
       "        1.        ],\n",
       "       [0.14237288, 0.57142857, 0.        , ..., 1.        , 0.        ,\n",
       "        0.        ],\n",
       "       [0.24858757, 0.57142857, 0.        , ..., 0.        , 0.        ,\n",
       "        1.        ]])"
      ]
     },
     "execution_count": 50,
     "metadata": {},
     "output_type": "execute_result"
    }
   ],
   "source": [
    "mmsc=MinMaxScaler() \n",
    "x_scaled=mmsc.fit_transform(x)\n",
    "x_scaled"
   ]
  },
  {
   "cell_type": "code",
   "execution_count": 51,
   "id": "b47532e6",
   "metadata": {
    "scrolled": true
   },
   "outputs": [
    {
     "data": {
      "text/html": [
       "<div>\n",
       "<style scoped>\n",
       "    .dataframe tbody tr th:only-of-type {\n",
       "        vertical-align: middle;\n",
       "    }\n",
       "\n",
       "    .dataframe tbody tr th {\n",
       "        vertical-align: top;\n",
       "    }\n",
       "\n",
       "    .dataframe thead th {\n",
       "        text-align: right;\n",
       "    }\n",
       "</style>\n",
       "<table border=\"1\" class=\"dataframe\">\n",
       "  <thead>\n",
       "    <tr style=\"text-align: right;\">\n",
       "      <th></th>\n",
       "      <th>area</th>\n",
       "      <th>bedrooms</th>\n",
       "      <th>bathrooms</th>\n",
       "      <th>stories</th>\n",
       "      <th>mainroad</th>\n",
       "      <th>guestroom</th>\n",
       "      <th>basement</th>\n",
       "      <th>hotwaterheating</th>\n",
       "      <th>airconditioning</th>\n",
       "      <th>parking</th>\n",
       "      <th>furnishingstatus_furnished</th>\n",
       "      <th>furnishingstatus_semi-furnished</th>\n",
       "      <th>furnishingstatus_unfurnished</th>\n",
       "    </tr>\n",
       "  </thead>\n",
       "  <tbody>\n",
       "    <tr>\n",
       "      <th>0</th>\n",
       "      <td>0.651977</td>\n",
       "      <td>0.857143</td>\n",
       "      <td>0.4</td>\n",
       "      <td>0.8</td>\n",
       "      <td>1.0</td>\n",
       "      <td>0.0</td>\n",
       "      <td>0.0</td>\n",
       "      <td>0.0</td>\n",
       "      <td>1.0</td>\n",
       "      <td>0.8</td>\n",
       "      <td>1.0</td>\n",
       "      <td>0.0</td>\n",
       "      <td>0.0</td>\n",
       "    </tr>\n",
       "    <tr>\n",
       "      <th>1</th>\n",
       "      <td>0.825989</td>\n",
       "      <td>0.857143</td>\n",
       "      <td>1.0</td>\n",
       "      <td>1.0</td>\n",
       "      <td>1.0</td>\n",
       "      <td>0.0</td>\n",
       "      <td>0.0</td>\n",
       "      <td>0.0</td>\n",
       "      <td>1.0</td>\n",
       "      <td>1.0</td>\n",
       "      <td>1.0</td>\n",
       "      <td>0.0</td>\n",
       "      <td>0.0</td>\n",
       "    </tr>\n",
       "    <tr>\n",
       "      <th>2</th>\n",
       "      <td>0.938983</td>\n",
       "      <td>0.571429</td>\n",
       "      <td>0.4</td>\n",
       "      <td>0.4</td>\n",
       "      <td>1.0</td>\n",
       "      <td>0.0</td>\n",
       "      <td>1.0</td>\n",
       "      <td>0.0</td>\n",
       "      <td>0.0</td>\n",
       "      <td>0.8</td>\n",
       "      <td>0.0</td>\n",
       "      <td>1.0</td>\n",
       "      <td>0.0</td>\n",
       "    </tr>\n",
       "    <tr>\n",
       "      <th>3</th>\n",
       "      <td>0.661017</td>\n",
       "      <td>0.857143</td>\n",
       "      <td>0.4</td>\n",
       "      <td>0.4</td>\n",
       "      <td>1.0</td>\n",
       "      <td>0.0</td>\n",
       "      <td>1.0</td>\n",
       "      <td>0.0</td>\n",
       "      <td>1.0</td>\n",
       "      <td>1.0</td>\n",
       "      <td>1.0</td>\n",
       "      <td>0.0</td>\n",
       "      <td>0.0</td>\n",
       "    </tr>\n",
       "    <tr>\n",
       "      <th>4</th>\n",
       "      <td>0.651977</td>\n",
       "      <td>0.857143</td>\n",
       "      <td>0.0</td>\n",
       "      <td>0.4</td>\n",
       "      <td>1.0</td>\n",
       "      <td>1.0</td>\n",
       "      <td>1.0</td>\n",
       "      <td>0.0</td>\n",
       "      <td>1.0</td>\n",
       "      <td>0.8</td>\n",
       "      <td>1.0</td>\n",
       "      <td>0.0</td>\n",
       "      <td>0.0</td>\n",
       "    </tr>\n",
       "    <tr>\n",
       "      <th>...</th>\n",
       "      <td>...</td>\n",
       "      <td>...</td>\n",
       "      <td>...</td>\n",
       "      <td>...</td>\n",
       "      <td>...</td>\n",
       "      <td>...</td>\n",
       "      <td>...</td>\n",
       "      <td>...</td>\n",
       "      <td>...</td>\n",
       "      <td>...</td>\n",
       "      <td>...</td>\n",
       "      <td>...</td>\n",
       "      <td>...</td>\n",
       "    </tr>\n",
       "    <tr>\n",
       "      <th>540</th>\n",
       "      <td>0.152542</td>\n",
       "      <td>0.285714</td>\n",
       "      <td>0.0</td>\n",
       "      <td>0.0</td>\n",
       "      <td>1.0</td>\n",
       "      <td>0.0</td>\n",
       "      <td>1.0</td>\n",
       "      <td>0.0</td>\n",
       "      <td>0.0</td>\n",
       "      <td>0.8</td>\n",
       "      <td>0.0</td>\n",
       "      <td>0.0</td>\n",
       "      <td>1.0</td>\n",
       "    </tr>\n",
       "    <tr>\n",
       "      <th>541</th>\n",
       "      <td>0.084746</td>\n",
       "      <td>0.571429</td>\n",
       "      <td>0.0</td>\n",
       "      <td>0.0</td>\n",
       "      <td>0.0</td>\n",
       "      <td>0.0</td>\n",
       "      <td>0.0</td>\n",
       "      <td>0.0</td>\n",
       "      <td>0.0</td>\n",
       "      <td>0.0</td>\n",
       "      <td>0.0</td>\n",
       "      <td>1.0</td>\n",
       "      <td>0.0</td>\n",
       "    </tr>\n",
       "    <tr>\n",
       "      <th>542</th>\n",
       "      <td>0.222599</td>\n",
       "      <td>0.285714</td>\n",
       "      <td>0.0</td>\n",
       "      <td>0.0</td>\n",
       "      <td>1.0</td>\n",
       "      <td>0.0</td>\n",
       "      <td>0.0</td>\n",
       "      <td>0.0</td>\n",
       "      <td>0.0</td>\n",
       "      <td>0.0</td>\n",
       "      <td>0.0</td>\n",
       "      <td>0.0</td>\n",
       "      <td>1.0</td>\n",
       "    </tr>\n",
       "    <tr>\n",
       "      <th>543</th>\n",
       "      <td>0.142373</td>\n",
       "      <td>0.571429</td>\n",
       "      <td>0.0</td>\n",
       "      <td>0.0</td>\n",
       "      <td>0.0</td>\n",
       "      <td>0.0</td>\n",
       "      <td>0.0</td>\n",
       "      <td>0.0</td>\n",
       "      <td>0.0</td>\n",
       "      <td>0.0</td>\n",
       "      <td>1.0</td>\n",
       "      <td>0.0</td>\n",
       "      <td>0.0</td>\n",
       "    </tr>\n",
       "    <tr>\n",
       "      <th>544</th>\n",
       "      <td>0.248588</td>\n",
       "      <td>0.571429</td>\n",
       "      <td>0.0</td>\n",
       "      <td>0.4</td>\n",
       "      <td>1.0</td>\n",
       "      <td>0.0</td>\n",
       "      <td>0.0</td>\n",
       "      <td>0.0</td>\n",
       "      <td>0.0</td>\n",
       "      <td>0.0</td>\n",
       "      <td>0.0</td>\n",
       "      <td>0.0</td>\n",
       "      <td>1.0</td>\n",
       "    </tr>\n",
       "  </tbody>\n",
       "</table>\n",
       "<p>545 rows × 13 columns</p>\n",
       "</div>"
      ],
      "text/plain": [
       "         area  bedrooms  bathrooms  stories  mainroad  guestroom  basement  \\\n",
       "0    0.651977  0.857143        0.4      0.8       1.0        0.0       0.0   \n",
       "1    0.825989  0.857143        1.0      1.0       1.0        0.0       0.0   \n",
       "2    0.938983  0.571429        0.4      0.4       1.0        0.0       1.0   \n",
       "3    0.661017  0.857143        0.4      0.4       1.0        0.0       1.0   \n",
       "4    0.651977  0.857143        0.0      0.4       1.0        1.0       1.0   \n",
       "..        ...       ...        ...      ...       ...        ...       ...   \n",
       "540  0.152542  0.285714        0.0      0.0       1.0        0.0       1.0   \n",
       "541  0.084746  0.571429        0.0      0.0       0.0        0.0       0.0   \n",
       "542  0.222599  0.285714        0.0      0.0       1.0        0.0       0.0   \n",
       "543  0.142373  0.571429        0.0      0.0       0.0        0.0       0.0   \n",
       "544  0.248588  0.571429        0.0      0.4       1.0        0.0       0.0   \n",
       "\n",
       "     hotwaterheating  airconditioning  parking  furnishingstatus_furnished  \\\n",
       "0                0.0              1.0      0.8                         1.0   \n",
       "1                0.0              1.0      1.0                         1.0   \n",
       "2                0.0              0.0      0.8                         0.0   \n",
       "3                0.0              1.0      1.0                         1.0   \n",
       "4                0.0              1.0      0.8                         1.0   \n",
       "..               ...              ...      ...                         ...   \n",
       "540              0.0              0.0      0.8                         0.0   \n",
       "541              0.0              0.0      0.0                         0.0   \n",
       "542              0.0              0.0      0.0                         0.0   \n",
       "543              0.0              0.0      0.0                         1.0   \n",
       "544              0.0              0.0      0.0                         0.0   \n",
       "\n",
       "     furnishingstatus_semi-furnished  furnishingstatus_unfurnished  \n",
       "0                                0.0                           0.0  \n",
       "1                                0.0                           0.0  \n",
       "2                                1.0                           0.0  \n",
       "3                                0.0                           0.0  \n",
       "4                                0.0                           0.0  \n",
       "..                               ...                           ...  \n",
       "540                              0.0                           1.0  \n",
       "541                              1.0                           0.0  \n",
       "542                              0.0                           1.0  \n",
       "543                              0.0                           0.0  \n",
       "544                              0.0                           1.0  \n",
       "\n",
       "[545 rows x 13 columns]"
      ]
     },
     "execution_count": 51,
     "metadata": {},
     "output_type": "execute_result"
    }
   ],
   "source": [
    "x=pd.DataFrame(x_scaled,columns=names)\n",
    "x"
   ]
  },
  {
   "cell_type": "markdown",
   "id": "f367e115",
   "metadata": {},
   "source": [
    "### 10. Split the data into training and testing"
   ]
  },
  {
   "cell_type": "code",
   "execution_count": 52,
   "id": "184f7199",
   "metadata": {},
   "outputs": [],
   "source": [
    "from sklearn.model_selection import train_test_split"
   ]
  },
  {
   "cell_type": "code",
   "execution_count": 53,
   "id": "6c5150a7",
   "metadata": {},
   "outputs": [],
   "source": [
    "x_train,x_test,y_train,y_test=train_test_split(x,y,test_size=0.3,random_state=0)"
   ]
  },
  {
   "cell_type": "code",
   "execution_count": 54,
   "id": "2dcd9688",
   "metadata": {},
   "outputs": [
    {
     "data": {
      "text/html": [
       "<div>\n",
       "<style scoped>\n",
       "    .dataframe tbody tr th:only-of-type {\n",
       "        vertical-align: middle;\n",
       "    }\n",
       "\n",
       "    .dataframe tbody tr th {\n",
       "        vertical-align: top;\n",
       "    }\n",
       "\n",
       "    .dataframe thead th {\n",
       "        text-align: right;\n",
       "    }\n",
       "</style>\n",
       "<table border=\"1\" class=\"dataframe\">\n",
       "  <thead>\n",
       "    <tr style=\"text-align: right;\">\n",
       "      <th></th>\n",
       "      <th>area</th>\n",
       "      <th>bedrooms</th>\n",
       "      <th>bathrooms</th>\n",
       "      <th>stories</th>\n",
       "      <th>mainroad</th>\n",
       "      <th>guestroom</th>\n",
       "      <th>basement</th>\n",
       "      <th>hotwaterheating</th>\n",
       "      <th>airconditioning</th>\n",
       "      <th>parking</th>\n",
       "      <th>furnishingstatus_furnished</th>\n",
       "      <th>furnishingstatus_semi-furnished</th>\n",
       "      <th>furnishingstatus_unfurnished</th>\n",
       "    </tr>\n",
       "  </thead>\n",
       "  <tbody>\n",
       "    <tr>\n",
       "      <th>454</th>\n",
       "      <td>0.322034</td>\n",
       "      <td>0.571429</td>\n",
       "      <td>0.0</td>\n",
       "      <td>0.4</td>\n",
       "      <td>1.0</td>\n",
       "      <td>0.0</td>\n",
       "      <td>0.0</td>\n",
       "      <td>0.0</td>\n",
       "      <td>1.0</td>\n",
       "      <td>0.0</td>\n",
       "      <td>0.0</td>\n",
       "      <td>0.0</td>\n",
       "      <td>1.0</td>\n",
       "    </tr>\n",
       "    <tr>\n",
       "      <th>392</th>\n",
       "      <td>0.264407</td>\n",
       "      <td>0.571429</td>\n",
       "      <td>0.0</td>\n",
       "      <td>0.4</td>\n",
       "      <td>1.0</td>\n",
       "      <td>0.0</td>\n",
       "      <td>0.0</td>\n",
       "      <td>0.0</td>\n",
       "      <td>0.0</td>\n",
       "      <td>0.0</td>\n",
       "      <td>0.0</td>\n",
       "      <td>1.0</td>\n",
       "      <td>0.0</td>\n",
       "    </tr>\n",
       "    <tr>\n",
       "      <th>231</th>\n",
       "      <td>0.301695</td>\n",
       "      <td>0.571429</td>\n",
       "      <td>0.0</td>\n",
       "      <td>0.0</td>\n",
       "      <td>1.0</td>\n",
       "      <td>0.0</td>\n",
       "      <td>0.0</td>\n",
       "      <td>0.0</td>\n",
       "      <td>0.0</td>\n",
       "      <td>0.0</td>\n",
       "      <td>0.0</td>\n",
       "      <td>1.0</td>\n",
       "      <td>0.0</td>\n",
       "    </tr>\n",
       "    <tr>\n",
       "      <th>271</th>\n",
       "      <td>0.028814</td>\n",
       "      <td>1.000000</td>\n",
       "      <td>0.0</td>\n",
       "      <td>0.4</td>\n",
       "      <td>0.0</td>\n",
       "      <td>0.0</td>\n",
       "      <td>1.0</td>\n",
       "      <td>0.0</td>\n",
       "      <td>0.0</td>\n",
       "      <td>0.0</td>\n",
       "      <td>0.0</td>\n",
       "      <td>1.0</td>\n",
       "      <td>0.0</td>\n",
       "    </tr>\n",
       "    <tr>\n",
       "      <th>250</th>\n",
       "      <td>0.210169</td>\n",
       "      <td>0.571429</td>\n",
       "      <td>0.0</td>\n",
       "      <td>0.8</td>\n",
       "      <td>1.0</td>\n",
       "      <td>0.0</td>\n",
       "      <td>0.0</td>\n",
       "      <td>0.0</td>\n",
       "      <td>0.0</td>\n",
       "      <td>0.0</td>\n",
       "      <td>0.0</td>\n",
       "      <td>1.0</td>\n",
       "      <td>0.0</td>\n",
       "    </tr>\n",
       "  </tbody>\n",
       "</table>\n",
       "</div>"
      ],
      "text/plain": [
       "         area  bedrooms  bathrooms  stories  mainroad  guestroom  basement  \\\n",
       "454  0.322034  0.571429        0.0      0.4       1.0        0.0       0.0   \n",
       "392  0.264407  0.571429        0.0      0.4       1.0        0.0       0.0   \n",
       "231  0.301695  0.571429        0.0      0.0       1.0        0.0       0.0   \n",
       "271  0.028814  1.000000        0.0      0.4       0.0        0.0       1.0   \n",
       "250  0.210169  0.571429        0.0      0.8       1.0        0.0       0.0   \n",
       "\n",
       "     hotwaterheating  airconditioning  parking  furnishingstatus_furnished  \\\n",
       "454              0.0              1.0      0.0                         0.0   \n",
       "392              0.0              0.0      0.0                         0.0   \n",
       "231              0.0              0.0      0.0                         0.0   \n",
       "271              0.0              0.0      0.0                         0.0   \n",
       "250              0.0              0.0      0.0                         0.0   \n",
       "\n",
       "     furnishingstatus_semi-furnished  furnishingstatus_unfurnished  \n",
       "454                              0.0                           1.0  \n",
       "392                              1.0                           0.0  \n",
       "231                              1.0                           0.0  \n",
       "271                              1.0                           0.0  \n",
       "250                              1.0                           0.0  "
      ]
     },
     "execution_count": 54,
     "metadata": {},
     "output_type": "execute_result"
    }
   ],
   "source": [
    "x_train.head()"
   ]
  },
  {
   "cell_type": "code",
   "execution_count": 55,
   "id": "d5dfd5d9",
   "metadata": {},
   "outputs": [
    {
     "data": {
      "text/html": [
       "<div>\n",
       "<style scoped>\n",
       "    .dataframe tbody tr th:only-of-type {\n",
       "        vertical-align: middle;\n",
       "    }\n",
       "\n",
       "    .dataframe tbody tr th {\n",
       "        vertical-align: top;\n",
       "    }\n",
       "\n",
       "    .dataframe thead th {\n",
       "        text-align: right;\n",
       "    }\n",
       "</style>\n",
       "<table border=\"1\" class=\"dataframe\">\n",
       "  <thead>\n",
       "    <tr style=\"text-align: right;\">\n",
       "      <th></th>\n",
       "      <th>area</th>\n",
       "      <th>bedrooms</th>\n",
       "      <th>bathrooms</th>\n",
       "      <th>stories</th>\n",
       "      <th>mainroad</th>\n",
       "      <th>guestroom</th>\n",
       "      <th>basement</th>\n",
       "      <th>hotwaterheating</th>\n",
       "      <th>airconditioning</th>\n",
       "      <th>parking</th>\n",
       "      <th>furnishingstatus_furnished</th>\n",
       "      <th>furnishingstatus_semi-furnished</th>\n",
       "      <th>furnishingstatus_unfurnished</th>\n",
       "    </tr>\n",
       "  </thead>\n",
       "  <tbody>\n",
       "    <tr>\n",
       "      <th>239</th>\n",
       "      <td>0.265537</td>\n",
       "      <td>0.571429</td>\n",
       "      <td>0.0</td>\n",
       "      <td>0.4</td>\n",
       "      <td>1.0</td>\n",
       "      <td>0.0</td>\n",
       "      <td>0.0</td>\n",
       "      <td>0.0</td>\n",
       "      <td>0.0</td>\n",
       "      <td>0.4</td>\n",
       "      <td>1.0</td>\n",
       "      <td>0.0</td>\n",
       "      <td>0.0</td>\n",
       "    </tr>\n",
       "    <tr>\n",
       "      <th>113</th>\n",
       "      <td>0.900565</td>\n",
       "      <td>0.571429</td>\n",
       "      <td>0.0</td>\n",
       "      <td>0.0</td>\n",
       "      <td>1.0</td>\n",
       "      <td>0.0</td>\n",
       "      <td>1.0</td>\n",
       "      <td>0.0</td>\n",
       "      <td>0.0</td>\n",
       "      <td>0.8</td>\n",
       "      <td>1.0</td>\n",
       "      <td>0.0</td>\n",
       "      <td>0.0</td>\n",
       "    </tr>\n",
       "    <tr>\n",
       "      <th>325</th>\n",
       "      <td>0.204520</td>\n",
       "      <td>0.857143</td>\n",
       "      <td>0.0</td>\n",
       "      <td>0.4</td>\n",
       "      <td>1.0</td>\n",
       "      <td>0.0</td>\n",
       "      <td>0.0</td>\n",
       "      <td>0.0</td>\n",
       "      <td>1.0</td>\n",
       "      <td>0.0</td>\n",
       "      <td>0.0</td>\n",
       "      <td>1.0</td>\n",
       "      <td>0.0</td>\n",
       "    </tr>\n",
       "    <tr>\n",
       "      <th>66</th>\n",
       "      <td>1.000000</td>\n",
       "      <td>0.285714</td>\n",
       "      <td>0.0</td>\n",
       "      <td>0.0</td>\n",
       "      <td>1.0</td>\n",
       "      <td>0.0</td>\n",
       "      <td>1.0</td>\n",
       "      <td>1.0</td>\n",
       "      <td>0.0</td>\n",
       "      <td>0.4</td>\n",
       "      <td>1.0</td>\n",
       "      <td>0.0</td>\n",
       "      <td>0.0</td>\n",
       "    </tr>\n",
       "    <tr>\n",
       "      <th>479</th>\n",
       "      <td>0.227119</td>\n",
       "      <td>0.857143</td>\n",
       "      <td>0.0</td>\n",
       "      <td>0.4</td>\n",
       "      <td>0.0</td>\n",
       "      <td>0.0</td>\n",
       "      <td>0.0</td>\n",
       "      <td>0.0</td>\n",
       "      <td>0.0</td>\n",
       "      <td>0.0</td>\n",
       "      <td>0.0</td>\n",
       "      <td>0.0</td>\n",
       "      <td>1.0</td>\n",
       "    </tr>\n",
       "  </tbody>\n",
       "</table>\n",
       "</div>"
      ],
      "text/plain": [
       "         area  bedrooms  bathrooms  stories  mainroad  guestroom  basement  \\\n",
       "239  0.265537  0.571429        0.0      0.4       1.0        0.0       0.0   \n",
       "113  0.900565  0.571429        0.0      0.0       1.0        0.0       1.0   \n",
       "325  0.204520  0.857143        0.0      0.4       1.0        0.0       0.0   \n",
       "66   1.000000  0.285714        0.0      0.0       1.0        0.0       1.0   \n",
       "479  0.227119  0.857143        0.0      0.4       0.0        0.0       0.0   \n",
       "\n",
       "     hotwaterheating  airconditioning  parking  furnishingstatus_furnished  \\\n",
       "239              0.0              0.0      0.4                         1.0   \n",
       "113              0.0              0.0      0.8                         1.0   \n",
       "325              0.0              1.0      0.0                         0.0   \n",
       "66               1.0              0.0      0.4                         1.0   \n",
       "479              0.0              0.0      0.0                         0.0   \n",
       "\n",
       "     furnishingstatus_semi-furnished  furnishingstatus_unfurnished  \n",
       "239                              0.0                           0.0  \n",
       "113                              0.0                           0.0  \n",
       "325                              1.0                           0.0  \n",
       "66                               0.0                           0.0  \n",
       "479                              0.0                           1.0  "
      ]
     },
     "execution_count": 55,
     "metadata": {},
     "output_type": "execute_result"
    }
   ],
   "source": [
    "x_test.head()"
   ]
  },
  {
   "cell_type": "code",
   "execution_count": 56,
   "id": "778e1d72",
   "metadata": {},
   "outputs": [
    {
     "data": {
      "text/plain": [
       "454    3143000.0\n",
       "392    3500000.0\n",
       "231    4690000.0\n",
       "271    4340000.0\n",
       "250    4515000.0\n",
       "         ...    \n",
       "70     6790000.0\n",
       "277    4305000.0\n",
       "9      9205000.0\n",
       "359    3710000.0\n",
       "192    5040000.0\n",
       "Name: price, Length: 381, dtype: float64"
      ]
     },
     "execution_count": 56,
     "metadata": {},
     "output_type": "execute_result"
    }
   ],
   "source": [
    "y_train"
   ]
  },
  {
   "cell_type": "code",
   "execution_count": 57,
   "id": "04bc566d",
   "metadata": {},
   "outputs": [
    {
     "data": {
      "text/plain": [
       "239    4585000.0\n",
       "113    6083000.0\n",
       "325    4007500.0\n",
       "66     6930000.0\n",
       "479    2940000.0\n",
       "         ...    \n",
       "477    2940000.0\n",
       "505    2653000.0\n",
       "347    3836000.0\n",
       "224    4760000.0\n",
       "38     7962500.0\n",
       "Name: price, Length: 164, dtype: float64"
      ]
     },
     "execution_count": 57,
     "metadata": {},
     "output_type": "execute_result"
    }
   ],
   "source": [
    "y_test"
   ]
  },
  {
   "cell_type": "markdown",
   "id": "556d9d24",
   "metadata": {},
   "source": [
    "### 11. Build the Model"
   ]
  },
  {
   "cell_type": "code",
   "execution_count": 58,
   "id": "1be7e458",
   "metadata": {},
   "outputs": [],
   "source": [
    "from sklearn.linear_model import LinearRegression\n",
    "from sklearn.linear_model import Ridge\n",
    "from sklearn.linear_model import Lasso"
   ]
  },
  {
   "cell_type": "code",
   "execution_count": 59,
   "id": "a2e2025b",
   "metadata": {},
   "outputs": [],
   "source": [
    "LR=LinearRegression()\n",
    "R=Ridge()\n",
    "L=Lasso()"
   ]
  },
  {
   "cell_type": "markdown",
   "id": "3081d6bb",
   "metadata": {},
   "source": [
    "### 12. Train the Model"
   ]
  },
  {
   "cell_type": "code",
   "execution_count": 60,
   "id": "fe22fb5b",
   "metadata": {},
   "outputs": [
    {
     "data": {
      "text/plain": [
       "Lasso()"
      ]
     },
     "execution_count": 60,
     "metadata": {},
     "output_type": "execute_result"
    }
   ],
   "source": [
    "LR.fit(x_train,y_train) #Multi-linear Regression\n",
    "R.fit(x_train,y_train) #Ridge Regression\n",
    "L.fit(x_train,y_train) #Lasso Regression"
   ]
  },
  {
   "cell_type": "markdown",
   "id": "ab53fbdf",
   "metadata": {},
   "source": [
    "### 13. Test the Model"
   ]
  },
  {
   "cell_type": "code",
   "execution_count": 61,
   "id": "eac3bd16",
   "metadata": {},
   "outputs": [],
   "source": [
    "lr_pred=LR.predict(x_test) #predicted using Multi-linear Regression\n",
    "r_pred=R.predict(x_test) #predicted using Ridge Regression\n",
    "l_pred=L.predict(x_test) #predicted using Lasso Regression"
   ]
  },
  {
   "cell_type": "code",
   "execution_count": 62,
   "id": "84f682bc",
   "metadata": {},
   "outputs": [
    {
     "data": {
      "text/plain": [
       "array([3993600., 5709824., 4667392., 6891520., 2852864., 7266304.,\n",
       "       3207168., 3235840., 2828288., 8187904., 6578176., 3829760.,\n",
       "       4050944., 4882432., 4325376., 1906688., 4341760., 3944448.,\n",
       "       3364864., 4579328., 6361088., 6662144., 4984832., 2738176.,\n",
       "       4962304., 5808128., 4925440., 5849088., 5791744., 5351424.,\n",
       "       3497984., 5863424., 6772736., 2981888., 4579328., 5195776.,\n",
       "       5226496., 3930112., 2961408., 4075520., 7913472., 4941824.,\n",
       "       6389760., 3772416., 3112960., 6629376., 4773888., 2828288.,\n",
       "       4376576., 5961728., 4214784., 7544832., 2531328., 3184640.,\n",
       "       3645440., 4653056., 7305216., 4286464., 3112960., 4669440.,\n",
       "       5574656., 6500352., 3174400., 7034880., 2424832., 4993024.,\n",
       "       6842368., 2504704., 3917824., 5208064., 3694592., 7380992.,\n",
       "       4532224., 6123520., 4530176., 4265984., 2848768., 7456768.,\n",
       "       2480128., 3227648., 3694592., 6541312., 5380096., 5634048.,\n",
       "       4122624., 4339712., 4882432., 5533696., 3985408., 4589568.,\n",
       "       3356672., 5376000., 3145728., 3682304., 3821568., 9592832.,\n",
       "       3092480., 6610944., 4499456., 4681728., 6881280., 3366912.,\n",
       "       4511744., 3508224., 6774784., 5505024., 4370432., 5195776.,\n",
       "       5580800., 2707456., 2816000., 1953792., 2701312., 5060608.,\n",
       "       3225600., 3923968., 7344128., 2711552., 4372480., 7303168.,\n",
       "       2289664., 5015552., 2789376., 5060608., 2699264., 3207168.,\n",
       "       7571456., 4833280., 4560896., 3637248., 5101568., 3266560.,\n",
       "       5691392., 2711552., 4108288., 7274496., 4880384., 3108864.,\n",
       "       3616768., 1943552., 4341760., 4456448., 5988352., 5287936.,\n",
       "       6834176., 7182336., 4777984., 7030784., 5861376., 3979264.,\n",
       "       5888000., 3457024., 2674688., 6379520., 6107136., 5957632.,\n",
       "       8937472., 7247872., 3969024., 3096576., 4284416., 3217408.,\n",
       "       5812224., 6375424.])"
      ]
     },
     "execution_count": 62,
     "metadata": {},
     "output_type": "execute_result"
    }
   ],
   "source": [
    "lr_pred"
   ]
  },
  {
   "cell_type": "code",
   "execution_count": 63,
   "id": "a9d93d05",
   "metadata": {},
   "outputs": [
    {
     "data": {
      "text/plain": [
       "array([4045149.52877205, 5676826.43657185, 4715735.14416167,\n",
       "       6744865.0813845 , 2884872.69020206, 7215474.41240696,\n",
       "       3263056.13077933, 3283939.92444758, 2863322.62914592,\n",
       "       8117052.23124392, 6510299.77711411, 3865660.72000603,\n",
       "       4082497.65438784, 4895195.20070255, 4315533.27799211,\n",
       "       1952559.31008814, 4338757.81740946, 3935988.9010398 ,\n",
       "       3400852.48288207, 4633605.99564479, 6265419.52156542,\n",
       "       6519184.45886093, 4996529.31006088, 2797801.90451052,\n",
       "       4931564.89094261, 5816228.77326917, 4929391.92541901,\n",
       "       5876476.63221889, 5709033.01243651, 5347923.70346976,\n",
       "       3523951.77339104, 5847444.98788451, 6757058.58889125,\n",
       "       3007255.44602773, 4542049.79102433, 5213520.03403292,\n",
       "       5253807.23423288, 3969641.24115097, 2990609.47957335,\n",
       "       4136718.61456922, 7841742.33191796, 4886879.62880263,\n",
       "       6316769.88738009, 3763398.94647229, 3173098.1202282 ,\n",
       "       6560847.48090391, 4806059.38090345, 2838670.63854064,\n",
       "       4413552.08093091, 6014815.78835249, 4240911.1282462 ,\n",
       "       7444553.91834273, 2587022.12066806, 3205436.94831873,\n",
       "       3647849.38819767, 4635231.13388914, 7207419.9802267 ,\n",
       "       4325401.00519097, 3137286.94032545, 4631667.45203943,\n",
       "       5527629.08663683, 6439904.81279407, 3163860.43952598,\n",
       "       6991657.44449806, 2491162.98418644, 5024230.96639495,\n",
       "       6793378.77305945, 2521882.29754261, 3943944.65789529,\n",
       "       5230073.50915253, 3759977.04004618, 7348129.49405743,\n",
       "       4579191.61330556, 6022686.1744792 , 4559440.27452876,\n",
       "       4311374.24543322, 2888953.62419821, 7338182.67054976,\n",
       "       2535190.06867149, 3246326.9531147 , 3759977.04004618,\n",
       "       6440965.73281037, 5344176.25304106, 5616387.0062503 ,\n",
       "       4145912.19642495, 4401766.41787619, 4850554.50700776,\n",
       "       5532673.86585295, 4033940.07217917, 4658031.32482683,\n",
       "       3313923.8697619 , 5339229.60926143, 3181413.36898764,\n",
       "       3651179.82511606, 3822911.40412406, 9441009.65584202,\n",
       "       3144608.45282734, 6560366.73186803, 4475836.30852372,\n",
       "       4647574.32866679, 6756549.87397577, 3422949.80778698,\n",
       "       4518623.44726327, 3541267.32414695, 6708561.92171589,\n",
       "       5509054.77390309, 4365553.20453779, 5144962.54153873,\n",
       "       5550987.00544879, 2724178.62511193, 2827766.63726171,\n",
       "       1979835.44625234, 2718726.62447246, 4982773.02381658,\n",
       "       3248383.93256337, 3968311.09627308, 7260309.15201087,\n",
       "       2729630.62575139, 4338276.99726129, 7255306.90634186,\n",
       "       2338934.17861774, 5000572.2373083 , 2796391.80878608,\n",
       "       5018381.81110044, 2742560.81498183, 3242096.71981455,\n",
       "       7478822.72848064, 4738676.72842639, 4554447.61468172,\n",
       "       3692841.59775564, 5091726.87155964, 3293179.38209662,\n",
       "       5774599.57994718, 2729630.62575139, 4132687.63650633,\n",
       "       7072622.37372771, 4874157.91171657, 3159132.34661605,\n",
       "       3615508.38603707, 1968931.44497342, 4406037.26776337,\n",
       "       4460272.29094306, 6003828.57586331, 5306332.09620132,\n",
       "       6797421.32387261, 7110544.55590926, 4790692.56408023,\n",
       "       6952460.48305058, 5778921.64741099, 4020569.71841696,\n",
       "       5871702.20695894, 3478020.84732496, 2673858.99468901,\n",
       "       6311922.57062482, 6170646.28967926, 5916834.33968653,\n",
       "       8803050.47185426, 7266071.20587497, 4022715.74215529,\n",
       "       3089462.66795591, 4305368.96223477, 3247591.95726617,\n",
       "       5746547.43593424, 6400741.32025578])"
      ]
     },
     "execution_count": 63,
     "metadata": {},
     "output_type": "execute_result"
    }
   ],
   "source": [
    "r_pred"
   ]
  },
  {
   "cell_type": "code",
   "execution_count": 64,
   "id": "71ee29c4",
   "metadata": {},
   "outputs": [
    {
     "data": {
      "text/plain": [
       "array([3997082.56814868, 5713949.5175776 , 4665417.0558976 ,\n",
       "       6894567.93799877, 2854924.89470155, 7273610.59538821,\n",
       "       3206933.39846655, 3236207.87504353, 2827448.09208132,\n",
       "       8192246.38330599, 6576994.87425657, 3833037.08760499,\n",
       "       4047776.22092561, 4889925.84762643, 4324036.564562  ,\n",
       "       1907549.74037301, 4340650.79798909, 3943132.39637695,\n",
       "       3364373.26011852, 4582233.86861745, 6361235.88846234,\n",
       "       6662796.78376492, 4984463.427161  , 2737803.03044233,\n",
       "       4962362.18518414, 5812316.28155381, 4924023.38761518,\n",
       "       5850662.77777037, 5787314.44593128, 5355602.52961502,\n",
       "       3495671.56552039, 5858863.629959  , 6775133.11419666,\n",
       "       2980989.28472083, 4576101.32635271, 5194552.09745593,\n",
       "       5222919.64121249, 3927385.967606  , 2966254.17960729,\n",
       "       4078466.44354098, 7918065.41937131, 4941386.37373096,\n",
       "       6390053.22432161, 3771550.58102924, 3110970.15306686,\n",
       "       6627751.94115737, 4776411.80598531, 2828575.71271043,\n",
       "       4373505.23008211, 5967098.65356944, 4213316.52631634,\n",
       "       7544483.55852768, 2532721.47178665, 3183319.25117717,\n",
       "       3644839.18452091, 4655060.56949194, 7310082.91718681,\n",
       "       4283939.09091834, 3110619.82284408, 4670112.9992557 ,\n",
       "       5578769.41715841, 6500193.39972684, 3174255.21560393,\n",
       "       7038657.56402993, 2430279.94994617, 4998931.58209159,\n",
       "       6843757.04243938, 2506960.67751305, 3920238.08129496,\n",
       "       5206415.73885268, 3696321.32605839, 7381265.91986513,\n",
       "       4535552.97801768, 6118513.44081195, 4531000.69258976,\n",
       "       4266374.77345729, 2849524.49713602, 7457680.71012968,\n",
       "       2485163.867804  , 3226938.90817703, 3696321.32605839,\n",
       "       6540638.92044089, 5376382.84532919, 5638296.22728386,\n",
       "       4119893.61037465, 4337734.15191421, 4877513.77808341,\n",
       "       5534533.05258185, 3988573.02795745, 4589483.40965087,\n",
       "       3359793.52075497, 5381241.36330112, 3150287.85240892,\n",
       "       3680798.1198582 , 3817739.28963697, 9594189.67228203,\n",
       "       3091023.40958607, 6607974.50310785, 4503695.9804821 ,\n",
       "       4686898.53988151, 6879592.63204892, 3364989.98231201,\n",
       "       4512292.41813734, 3506922.14592614, 6777923.10178853,\n",
       "       5503534.8294887 , 4369477.85780385, 5191575.30848239,\n",
       "       5581920.50765034, 2706440.67311083, 2816943.80417713,\n",
       "       1956154.23823728, 2700624.71884418, 5059795.61557333,\n",
       "       3225703.58713934, 3922518.81298395, 7344491.13825959,\n",
       "       2712256.62737747, 4370017.03493194, 7307796.20369319,\n",
       "       2295314.24073572, 5016660.41204349, 2790714.00370247,\n",
       "       5056507.87663418, 2698624.70507507, 3208570.48433796,\n",
       "       7575869.27708708, 4835911.04810617, 4560555.91774846,\n",
       "       3635905.418687  , 5103290.14897052, 3269514.9148752 ,\n",
       "       5688471.1995984 , 2712256.62737747, 4106949.80525968,\n",
       "       7273153.95067563, 4883726.71092296, 3106255.34117347,\n",
       "       3619172.01635884, 1944522.32970399, 4338063.47927978,\n",
       "       4456159.77277704, 5990207.35986016, 5288736.97405844,\n",
       "       6835296.9870395 , 7181966.53817415, 4774584.83519773,\n",
       "       7031802.35071822, 5861493.83398617, 3978023.09003559,\n",
       "       5887331.53655566, 3454592.23797853, 2677000.48985051,\n",
       "       6379095.77919785, 6113581.33515635, 5958264.14831762,\n",
       "       8933654.16367759, 7254707.13249688, 3972908.27174725,\n",
       "       3096109.60897623, 4283670.60982871, 3217619.25744078,\n",
       "       5813381.51811393, 6377504.30353906])"
      ]
     },
     "execution_count": 64,
     "metadata": {},
     "output_type": "execute_result"
    }
   ],
   "source": [
    "l_pred"
   ]
  },
  {
   "cell_type": "code",
   "execution_count": 65,
   "id": "a7641405",
   "metadata": {},
   "outputs": [
    {
     "data": {
      "text/plain": [
       "239    4585000.0\n",
       "113    6083000.0\n",
       "325    4007500.0\n",
       "66     6930000.0\n",
       "479    2940000.0\n",
       "         ...    \n",
       "477    2940000.0\n",
       "505    2653000.0\n",
       "347    3836000.0\n",
       "224    4760000.0\n",
       "38     7962500.0\n",
       "Name: price, Length: 164, dtype: float64"
      ]
     },
     "execution_count": 65,
     "metadata": {},
     "output_type": "execute_result"
    }
   ],
   "source": [
    "y_test"
   ]
  },
  {
   "cell_type": "markdown",
   "id": "727bb261",
   "metadata": {},
   "source": [
    "### 14. Measure the performance using Metrics"
   ]
  },
  {
   "cell_type": "code",
   "execution_count": 66,
   "id": "a3b550a4",
   "metadata": {},
   "outputs": [],
   "source": [
    "models=['Multi-linear Regression','Ridge Regression','Lasso Regression']"
   ]
  },
  {
   "cell_type": "code",
   "execution_count": 67,
   "id": "ab8d9611",
   "metadata": {},
   "outputs": [],
   "source": [
    "from sklearn import metrics"
   ]
  },
  {
   "cell_type": "code",
   "execution_count": 68,
   "id": "9c838a8c",
   "metadata": {
    "scrolled": true
   },
   "outputs": [
    {
     "name": "stdout",
     "output_type": "stream",
     "text": [
      "R Sqaured\n",
      "Multi-linear Regression -  0.679170934871701\n",
      "Ridge Regression -  0.6834737149884991\n",
      "Lasso Regression -  0.6791528861392846\n"
     ]
    }
   ],
   "source": [
    "# R Squared\n",
    "lr_r2=metrics.r2_score(y_test,lr_pred) #Multi-linear Regression\n",
    "r_r2=metrics.r2_score(y_test,r_pred) #Ridge Regression\n",
    "l_r2=metrics.r2_score(y_test,l_pred) #Lasso Regression\n",
    "print('R Sqaured')\n",
    "print('Multi-linear Regression - ',lr_r2) \n",
    "print('Ridge Regression - ',r_r2) \n",
    "print('Lasso Regression - ',l_r2) "
   ]
  },
  {
   "cell_type": "code",
   "execution_count": 69,
   "id": "eed83007",
   "metadata": {},
   "outputs": [
    {
     "data": {
      "text/plain": [
       "Text(0.5, 1.0, 'R Squared')"
      ]
     },
     "execution_count": 69,
     "metadata": {},
     "output_type": "execute_result"
    },
    {
     "data": {
      "image/png": "[encoded data removed]",
      "text/plain": [
       "<Figure size 432x288 with 1 Axes>"
      ]
     },
     "metadata": {
      "needs_background": "light"
     },
     "output_type": "display_data"
    }
   ],
   "source": [
    "values=[lr_r2,r_r2,l_r2]\n",
    "plt.bar(models,values)\n",
    "plt.xlabel('Models')\n",
    "plt.ylabel('Values')\n",
    "plt.title('R Squared')"
   ]
  },
  {
   "cell_type": "code",
   "execution_count": 70,
   "id": "7da8a31c",
   "metadata": {},
   "outputs": [
    {
     "name": "stdout",
     "output_type": "stream",
     "text": [
      "Mean Square Error\n",
      "Multi-linear Regression -  979719554011.7073\n",
      "Ridge Regression -  966580102898.2177\n",
      "Lasso Regression -  979774669641.79\n"
     ]
    }
   ],
   "source": [
    "#MSE (Mean Square Error)\n",
    "lr_mse=metrics.mean_squared_error(y_test,lr_pred) #Multi-linear Regression\n",
    "r_mse=metrics.mean_squared_error(y_test,r_pred) #Ridge Regression\n",
    "l_mse=metrics.mean_squared_error(y_test,l_pred) #Lasso Regression\n",
    "print('Mean Square Error')\n",
    "print('Multi-linear Regression - ',lr_mse) \n",
    "print('Ridge Regression - ',r_mse) \n",
    "print('Lasso Regression - ',l_mse) "
   ]
  },
  {
   "cell_type": "code",
   "execution_count": 71,
   "id": "9d7e1f05",
   "metadata": {},
   "outputs": [
    {
     "data": {
      "text/plain": [
       "Text(0.5, 1.0, 'Mean Square Error')"
      ]
     },
     "execution_count": 71,
     "metadata": {},
     "output_type": "execute_result"
    },
    {
     "data": {
      "image/png": "[encoded data removed]",
      "text/plain": [
       "<Figure size 432x288 with 1 Axes>"
      ]
     },
     "metadata": {
      "needs_background": "light"
     },
     "output_type": "display_data"
    }
   ],
   "source": [
    "values=[lr_mse,r_mse,l_mse]\n",
    "plt.bar(models,values)\n",
    "plt.xlabel('Models')\n",
    "plt.ylabel('Values')\n",
    "plt.title('Mean Square Error')"
   ]
  },
  {
   "cell_type": "code",
   "execution_count": 72,
   "id": "019ab5ce",
   "metadata": {},
   "outputs": [
    {
     "name": "stdout",
     "output_type": "stream",
     "text": [
      "Root Mean Square Error\n",
      "Multi-linear Regression -  989807.8369116439\n",
      "Ridge Regression -  983148.057465516\n",
      "Lasso Regression -  989835.6781010624\n"
     ]
    }
   ],
   "source": [
    "#RMSE (Root Mean Square Error)\n",
    "lr_rmse=np.sqrt(metrics.mean_squared_error(y_test,lr_pred))#Multi-linear Regression\n",
    "r_rmse=np.sqrt(metrics.mean_squared_error(y_test,r_pred)) #Ridge Regression\n",
    "l_rmse=np.sqrt(metrics.mean_squared_error(y_test,l_pred)) #Lasso Regression\n",
    "print('Root Mean Square Error')\n",
    "print('Multi-linear Regression - ',lr_rmse) \n",
    "print('Ridge Regression - ',r_rmse) \n",
    "print('Lasso Regression - ',l_rmse)"
   ]
  },
  {
   "cell_type": "code",
   "execution_count": 73,
   "id": "eae40e81",
   "metadata": {},
   "outputs": [
    {
     "data": {
      "text/plain": [
       "Text(0.5, 1.0, 'Root Mean Square Error')"
      ]
     },
     "execution_count": 73,
     "metadata": {},
     "output_type": "execute_result"
    },
    {
     "data": {
      "image/png": "[encoded data removed]",
      "text/plain": [
       "<Figure size 432x288 with 1 Axes>"
      ]
     },
     "metadata": {
      "needs_background": "light"
     },
     "output_type": "display_data"
    }
   ],
   "source": [
    "values=[lr_rmse,r_rmse,l_rmse]\n",
    "plt.bar(models,values)\n",
    "plt.xlabel('Models')\n",
    "plt.ylabel('Values')\n",
    "plt.title('Root Mean Square Error')"
   ]
  },
  {
   "cell_type": "markdown",
   "id": "143a1f06",
   "metadata": {},
   "source": [
    "## Since Ridge Regression has the highest R Squared value. Therefore, we will go with the ridge regression model."
   ]
  }
 ],
 "metadata": {
  "kernelspec": {
   "display_name": "Python 3 (ipykernel)",
   "language": "python",
   "name": "python3"
  },
  "language_info": {
   "codemirror_mode": {
    "name": "ipython",
    "version": 3
   },
   "file_extension": ".py",
   "mimetype": "text/x-python",
   "name": "python",
   "nbconvert_exporter": "python",
   "pygments_lexer": "ipython3",
   "version": "3.9.7"
  }
 },
 "nbformat": 4,
 "nbformat_minor": 5
}
